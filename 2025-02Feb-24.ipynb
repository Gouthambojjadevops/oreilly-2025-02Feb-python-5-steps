{
 "cells": [
  {
   "cell_type": "markdown",
   "metadata": {},
   "source": [
    "# Agenda: Week 3\n",
    "\n",
    "1. Questions\n",
    "2. Dictionaries\n",
    "    - What are they?\n",
    "    - How do we create them?\n",
    "    - How do we use them?\n",
    "    - Different paradigms for dict usage\n",
    "3. Files\n",
    "    - What are files?\n",
    "    - How can we read from a file?\n",
    "    - Iterating over files\n",
    "    - Turning files into data structures\n",
    "    - (A little bit) writing to files, and what's involved there"
   ]
  },
  {
   "cell_type": "code",
   "execution_count": null,
   "metadata": {},
   "outputs": [],
   "source": []
  },
  {
   "cell_type": "markdown",
   "metadata": {},
   "source": [
    "# The story so far\n",
    "\n",
    "We've seen a bunch of things so far:\n",
    "\n",
    "- Python's nouns are values\n",
    "- We can assign any value to a variable (a name that lets us keep track of it)\n",
    "- Every value has a type\n",
    "    - Integers\n",
    "    - Floats\n",
    "    - Strings\n",
    "    - Lists\n",
    "    - Tuples\n",
    "- Each data structure is useful for different things\n",
    "    - Faster/slower at retrieval and storage\n",
    "    - Can we modify it? (Is it mutable?)\n",
    "    - What can we store in it?\n",
    "\n",
    "The default data structure we use for storing (and retrieving) is the *list*:\n",
    "- Can store anything at all (although it's traditional for all values to be of the same type)\n",
    "- Items are stored and retrieved via a numeric index, starting at 0\n",
    "- We can modify a list (i.e., it is *mutable*):\n",
    "    - We can update/change an existing value by assigning to that index\n",
    "    - We can add one or more new items to a list, typically at the end, using some methods, including `list.append`\n",
    "    - We can remove one or more items from a list, typically from the end, using some methods, including `list.pop`\n",
    "- You can iterate over the elements of a list, one at a time\n",
    "- What's wrong with lists?\n",
    "    - Because we can modify them, they always have some extra space around in memory, so that the computer doesn't need to allocate new memory each time we do sometime\n",
    "    - If we want to search for a value in a list, we need to iterate over it, one element at a time (this can be slow, if we have a big list)\n",
    "\n",
    "(Both lists and tuples are ordered -- whatever order you create values, the elements will remain in that order.)\n",
    "\n",
    "The first problem is solved, to some degree, by *tuples*.\n",
    "- Tuples are like lists, but they are *immutable*, they cannot be changed\n",
    "- As a result, they have no extra memory -- they are as compact and efficient as something can be in Python\n",
    "- As a result, tuples are often used in Python to represent a collection of data\n",
    "    - A person, who has a name, birthdate, and height -- three different types of values, appropriate for a tuple\n",
    "    - A database record, which has several fields of different types\n",
    "- Even if you won't personally use tuples much, because they are so efficient, Python uses them a *lot* behind the scenes.\n",
    "\n",
    "The second problem (of searching) is solved, in no small part by dictionaries.\n",
    "\n"
   ]
  },
  {
   "cell_type": "markdown",
   "metadata": {},
   "source": [
    "# Lists vs. tuples\n",
    "\n",
    "It's true that lists are mutable and tuples are immutable.  You can never change the length or values in a tuple. You can always change the values and length of a list.\n",
    "\n",
    "HOWEVER, you don't choose between a list and tuple based on whether you plan to change the values. Rather, you choose whether to use a list or tuple based on what you're storing inside of it:\n",
    "\n",
    "- If all of the elements are of the same type (integer, string, etc.), then use a list.\n",
    "- If the elements are of different types, then use a tuple.\n",
    "\n",
    "We don't choose tuples because they're safer, or cannot be changed.\n",
    "\n",
    "If you have districts (all strings) and subdistricts (all strings), then you would likely use two lists. OR as we will see in the next few hours, you might use a dict in which the districts are the keys and the subdistricts are the values."
   ]
  },
  {
   "cell_type": "markdown",
   "metadata": {},
   "source": [
    "# What is a dictionary?\n",
    "\n",
    "They aren't unique to Python. However, other languages call them other things:\n",
    "\n",
    "- Hashes\n",
    "- Hashmaps\n",
    "- Hash tables\n",
    "- Maps\n",
    "- Associative arrays\n",
    "- Key-value stores\n",
    "- Name-value stores\n",
    "\n",
    "Think of a list in which the indexes can be *anything* at all. That is, we won't use 0, 1, 2, 3, etc., but we can use integers (whatever we want) or strings (whatever we want).\n",
    "\n",
    "Suddenly, we aren't asking for the letter at index 5. Rather, we're asking for the number at index `height`. We can determine what the indexes are, although we call it a \"key\" in the world of dictionaries.\n",
    "\n",
    "If you think of a dictionary (\"dict\") as a two-column table in which the first column contains the key (i.e., the index) and the second column contains the value, then you basically have the right mental model.\n",
    "\n",
    "A few rules for dicts:\n",
    "\n",
    "- The keys can be any *immutable* type. That means, for the most part, keys will be integers and strings.\n",
    "- The values can be of any type whatsoever, with no exception.\n",
    "- The keys must be unique in a given dictionary. You cannot have the same key repeat!\n",
    "- Every key has a value, and every value has a key.\n",
    "\n",
    "How do we create a dict? How do we use a dict?\n",
    "\n",
    "We create it using `{}`, with each key separated from its value with `:`. Pairs are separated with commas."
   ]
  },
  {
   "cell_type": "code",
   "execution_count": 1,
   "metadata": {},
   "outputs": [],
   "source": [
    "# this is a very simple dictionary, with three key-value pairs\n",
    "\n",
    "d = {'a':10, 'b':20, 'c':30}"
   ]
  },
  {
   "cell_type": "code",
   "execution_count": 2,
   "metadata": {},
   "outputs": [
    {
     "data": {
      "text/plain": [
       "dict"
      ]
     },
     "execution_count": 2,
     "metadata": {},
     "output_type": "execute_result"
    }
   ],
   "source": [
    "# what type of value is in d?\n",
    "\n",
    "type(d)"
   ]
  },
  {
   "cell_type": "markdown",
   "metadata": {},
   "source": [
    "# Retrieving values from a dict\n",
    "\n",
    "To retrieve a value from a dictionary, we use `[]`, just like with a string, list, or tuple. Inside of the `[]`, we put the key whose value we want to retrieve.\n",
    "\n",
    "The key must be *precisely* the same as when it was stored. If we used a string, then the capitalization, spelling, and whitespace must all be identical.\n",
    "\n",
    "If we ask for a key that doesn't exist, we'll get a `KeyError` error.\n",
    "\n",
    "You always use a key to get a value. You cannot go in the other direction, namely using a value to get a key."
   ]
  },
  {
   "cell_type": "code",
   "execution_count": 3,
   "metadata": {},
   "outputs": [
    {
     "data": {
      "text/plain": [
       "10"
      ]
     },
     "execution_count": 3,
     "metadata": {},
     "output_type": "execute_result"
    }
   ],
   "source": [
    "d['a']   # this will return the value associated with the key 'a' in our dictionary"
   ]
  },
  {
   "cell_type": "code",
   "execution_count": 4,
   "metadata": {},
   "outputs": [
    {
     "data": {
      "text/plain": [
       "20"
      ]
     },
     "execution_count": 4,
     "metadata": {},
     "output_type": "execute_result"
    }
   ],
   "source": [
    "d['b']"
   ]
  },
  {
   "cell_type": "code",
   "execution_count": 5,
   "metadata": {},
   "outputs": [
    {
     "ename": "KeyError",
     "evalue": "'hello'",
     "output_type": "error",
     "traceback": [
      "\u001b[0;31m---------------------------------------------------------------------------\u001b[0m",
      "\u001b[0;31mKeyError\u001b[0m                                  Traceback (most recent call last)",
      "Cell \u001b[0;32mIn[5], line 1\u001b[0m\n\u001b[0;32m----> 1\u001b[0m \u001b[43md\u001b[49m\u001b[43m[\u001b[49m\u001b[38;5;124;43m'\u001b[39;49m\u001b[38;5;124;43mhello\u001b[39;49m\u001b[38;5;124;43m'\u001b[39;49m\u001b[43m]\u001b[49m   \u001b[38;5;66;03m# is there a key 'hello' in d? No, so we'll get an error...\u001b[39;00m\n",
      "\u001b[0;31mKeyError\u001b[0m: 'hello'"
     ]
    }
   ],
   "source": [
    "d['hello']   # is there a key 'hello' in d? No, so we'll get an error..."
   ]
  },
  {
   "cell_type": "markdown",
   "metadata": {},
   "source": [
    "# Where do I use dicts?\n",
    "\n",
    "There is a huge number of problems in programming that involve two parallel sets of information, which we can use as keys and values:\n",
    "\n",
    "- Month names and month numbers\n",
    "- Month numbers and month names\n",
    "- User IDs and user names\n",
    "- User IDs and complete user records as tuples\n",
    "- Filename and file contents\n"
   ]
  },
  {
   "cell_type": "code",
   "execution_count": 6,
   "metadata": {},
   "outputs": [],
   "source": [
    "# another example of a dict\n",
    "# month numbers and names\n",
    "\n",
    "months = {1:'Jan', 2:'Feb', 3:'Mar', 4:'Apr', 5:'May'}"
   ]
  },
  {
   "cell_type": "code",
   "execution_count": 7,
   "metadata": {},
   "outputs": [
    {
     "data": {
      "text/plain": [
       "'Jan'"
      ]
     },
     "execution_count": 7,
     "metadata": {},
     "output_type": "execute_result"
    }
   ],
   "source": [
    "months[1]   # give me the value associated with months[1]"
   ]
  },
  {
   "cell_type": "code",
   "execution_count": 8,
   "metadata": {},
   "outputs": [
    {
     "data": {
      "text/plain": [
       "'Apr'"
      ]
     },
     "execution_count": 8,
     "metadata": {},
     "output_type": "execute_result"
    }
   ],
   "source": [
    "k = 4\n",
    "\n",
    "months[k]   # I can use a variable to retriev"
   ]
  },
  {
   "cell_type": "code",
   "execution_count": 9,
   "metadata": {},
   "outputs": [
    {
     "data": {
      "text/plain": [
       "{'a': 10, 'b': 20, 'c': 30}"
      ]
     },
     "execution_count": 9,
     "metadata": {},
     "output_type": "execute_result"
    }
   ],
   "source": [
    "d"
   ]
  },
  {
   "cell_type": "code",
   "execution_count": 10,
   "metadata": {},
   "outputs": [
    {
     "data": {
      "text/plain": [
       "30"
      ]
     },
     "execution_count": 10,
     "metadata": {},
     "output_type": "execute_result"
    }
   ],
   "source": [
    "k = 'c'\n",
    "\n",
    "d[k]"
   ]
  },
  {
   "cell_type": "code",
   "execution_count": 11,
   "metadata": {},
   "outputs": [
    {
     "data": {
      "text/plain": [
       "True"
      ]
     },
     "execution_count": 11,
     "metadata": {},
     "output_type": "execute_result"
    }
   ],
   "source": [
    "# what if I want to avoid errors?\n",
    "# how can I check if a key is in a dict?\n",
    "\n",
    "# we use \"in\" to look in the keys (not in the values)\n",
    "\n",
    "'a' in d  # this means: is 'a' a key in d?"
   ]
  },
  {
   "cell_type": "code",
   "execution_count": 13,
   "metadata": {},
   "outputs": [
    {
     "name": "stdout",
     "output_type": "stream",
     "text": [
      "10\n"
     ]
    }
   ],
   "source": [
    "if 'a' in d:\n",
    "    print(d['a'])\n",
    "else:\n",
    "    print(f'a is not a key in d')"
   ]
  },
  {
   "cell_type": "code",
   "execution_count": 14,
   "metadata": {},
   "outputs": [
    {
     "name": "stdout",
     "output_type": "stream",
     "text": [
      "qrst is not a key in d\n"
     ]
    }
   ],
   "source": [
    "if 'qrst' in d:\n",
    "    print(d['qrst'])\n",
    "else:\n",
    "    print(f'qrst is not a key in d')"
   ]
  },
  {
   "cell_type": "code",
   "execution_count": 15,
   "metadata": {},
   "outputs": [],
   "source": [
    "# let's create a dict, months, in which integers are the keys\n",
    "# and strings are the values\n",
    "\n",
    "months = {1:'Jan', 2:'Feb', 3:'Mar', 4:'Apr', 5:'May'}"
   ]
  },
  {
   "cell_type": "code",
   "execution_count": 16,
   "metadata": {},
   "outputs": [
    {
     "data": {
      "text/plain": [
       "'Jan'"
      ]
     },
     "execution_count": 16,
     "metadata": {},
     "output_type": "execute_result"
    }
   ],
   "source": [
    "months[1]   # use the key (1) to get the value"
   ]
  },
  {
   "cell_type": "code",
   "execution_count": 17,
   "metadata": {},
   "outputs": [
    {
     "ename": "KeyError",
     "evalue": "'Jan'",
     "output_type": "error",
     "traceback": [
      "\u001b[0;31m---------------------------------------------------------------------------\u001b[0m",
      "\u001b[0;31mKeyError\u001b[0m                                  Traceback (most recent call last)",
      "Cell \u001b[0;32mIn[17], line 1\u001b[0m\n\u001b[0;32m----> 1\u001b[0m \u001b[43mmonths\u001b[49m\u001b[43m[\u001b[49m\u001b[38;5;124;43m'\u001b[39;49m\u001b[38;5;124;43mJan\u001b[39;49m\u001b[38;5;124;43m'\u001b[39;49m\u001b[43m]\u001b[49m  \u001b[38;5;66;03m# what if I try to retrieve via the value?\u001b[39;00m\n",
      "\u001b[0;31mKeyError\u001b[0m: 'Jan'"
     ]
    }
   ],
   "source": [
    "months['Jan']  # what if I try to retrieve via the value?"
   ]
  },
  {
   "cell_type": "code",
   "execution_count": 18,
   "metadata": {},
   "outputs": [
    {
     "ename": "NameError",
     "evalue": "name 'Jan' is not defined",
     "output_type": "error",
     "traceback": [
      "\u001b[0;31m---------------------------------------------------------------------------\u001b[0m",
      "\u001b[0;31mNameError\u001b[0m                                 Traceback (most recent call last)",
      "Cell \u001b[0;32mIn[18], line 3\u001b[0m\n\u001b[1;32m      1\u001b[0m \u001b[38;5;66;03m# Moreover, you didn't put quotes around your text:\u001b[39;00m\n\u001b[0;32m----> 3\u001b[0m months[\u001b[43mJan\u001b[49m]   \u001b[38;5;66;03m# it'll look for a variable named Jan, which doesn't exist\u001b[39;00m\n",
      "\u001b[0;31mNameError\u001b[0m: name 'Jan' is not defined"
     ]
    }
   ],
   "source": [
    "# Moreover, you didn't put quotes around your text:\n",
    "\n",
    "months[Jan]   # it'll look for a variable named Jan, which doesn't exist"
   ]
  },
  {
   "cell_type": "markdown",
   "metadata": {},
   "source": [
    "# Exercise: Restaurant\n",
    "\n",
    "1. Define `total` to be 0. This will be the total bill for eating at the restaurant.\n",
    "2. Define a dict, `menu`, whose keys are strings (the items on the menu) and whose values are integers (the prices of those items).\n",
    "3. Ask the user, repeatedly, to order something on the menu. (Here, you'll use a `while True` loop.)\n",
    "    - If the user enters an empty string, then stop asking (i.e., use `break` to exit the loop)\n",
    "    - If the user's order is on the menu (i.e., if what they entered is a key in our `menu` dict), then add the price to `total`, and print the item, the price, and the new total\n",
    "    - If the user's order is *not* on the menu (i.e., if their entered order is *not* a key, which you can check, with `in`), then scold them a bit.\n",
    "4. At the end, print the total.\n",
    "\n",
    "Example:\n",
    "\n",
    "    Order: sandwich\n",
    "    sandwich is 10, total is now 10\n",
    "    Order: tea\n",
    "    tea is 8, total is now 18\n",
    "    Order: elephant\n",
    "    We're all out of elephant today!\n",
    "    Order: [ENTER]\n",
    "    Total is 18\n",
    "\n"
   ]
  },
  {
   "cell_type": "code",
   "execution_count": 21,
   "metadata": {},
   "outputs": [
    {
     "name": "stdin",
     "output_type": "stream",
     "text": [
      "Order:  sandwich\n"
     ]
    },
    {
     "name": "stdout",
     "output_type": "stream",
     "text": [
      "sandwich costs 10, total is now 10\n"
     ]
    },
    {
     "name": "stdin",
     "output_type": "stream",
     "text": [
      "Order:  tea\n"
     ]
    },
    {
     "name": "stdout",
     "output_type": "stream",
     "text": [
      "tea costs 8, total is now 18\n"
     ]
    },
    {
     "name": "stdin",
     "output_type": "stream",
     "text": [
      "Order:  apple\n"
     ]
    },
    {
     "name": "stdout",
     "output_type": "stream",
     "text": [
      "apple costs 3, total is now 21\n"
     ]
    },
    {
     "name": "stdin",
     "output_type": "stream",
     "text": [
      "Order:  something else\n"
     ]
    },
    {
     "name": "stdout",
     "output_type": "stream",
     "text": [
      "Sorry, we are out of something else today!\n"
     ]
    },
    {
     "name": "stdin",
     "output_type": "stream",
     "text": [
      "Order:  \n"
     ]
    },
    {
     "name": "stdout",
     "output_type": "stream",
     "text": [
      "Total is 21\n"
     ]
    }
   ],
   "source": [
    "total = 0\n",
    "\n",
    "menu = { 'sandwich':10  ,  'tea':8   ,  'apple':3   , 'cake':10   }\n",
    "\n",
    "while True:    # infinite loop\n",
    "    order = input('Order: ').strip()\n",
    "\n",
    "    if order == '':   # did the user enter an empty string?\n",
    "        break\n",
    "\n",
    "    if order in menu:        # is the user's input string, order, a key in our dict?\n",
    "        price = menu[order]  # get the price\n",
    "        total += price\n",
    "        print(f'{order} costs { price}, total is now {total}')\n",
    "\n",
    "    else:    # if it wasn't a key in our menu dict\n",
    "        print(f'Sorry, we are out of {order} today!')\n",
    "\n",
    "print(f'Total is {total}')        "
   ]
  },
  {
   "cell_type": "code",
   "execution_count": 20,
   "metadata": {},
   "outputs": [
    {
     "data": {
      "text/plain": [
       "4"
      ]
     },
     "execution_count": 20,
     "metadata": {},
     "output_type": "execute_result"
    }
   ],
   "source": [
    "len(menu)   # how big is this menu?"
   ]
  },
  {
   "cell_type": "code",
   "execution_count": 22,
   "metadata": {},
   "outputs": [
    {
     "name": "stdin",
     "output_type": "stream",
     "text": [
      "enter your order: sandwich\n"
     ]
    },
    {
     "name": "stdout",
     "output_type": "stream",
     "text": [
      "sandwich is 10, total is now 10\n"
     ]
    },
    {
     "name": "stdin",
     "output_type": "stream",
     "text": [
      "enter your order: \n"
     ]
    },
    {
     "name": "stdout",
     "output_type": "stream",
     "text": [
      "Total is: 10\n"
     ]
    }
   ],
   "source": [
    "# TT\n",
    "\n",
    "total = 0\n",
    "menu = { 'sandwich':10, 'tea': 8, 'coffee': 8}\n",
    "\n",
    "while True:\n",
    "    order = input('enter your order:').strip()\n",
    "    if order in menu:\n",
    "        total += menu[order]\n",
    "        print(f'{order} is {menu[order]}, total is now {total}')\n",
    "    elif order == '':\n",
    "        break\n",
    "    else:\n",
    "        print(f'We\\'re out of {order} today!')\n",
    "\n",
    "print(f'Total is: {total}')"
   ]
  },
  {
   "cell_type": "code",
   "execution_count": null,
   "metadata": {},
   "outputs": [],
   "source": [
    "# CA\n",
    "\n",
    "total = 0     # an integer, the total amount that the person has to pay\n",
    "menu = {'soup': 10, 'tea': 2, 'beer': 5, 'steak': 20}\n",
    "while True:\n",
    "    order = input(\"What you want to order? \")   # a string, the item that the person wants to buy/eat\n",
    "    if order in menu:      # if the user's request (order) is a key in the dict menu...\n",
    "        order += total     # total += menu[order]\n",
    "    elif order == '':\n",
    "        print(total)\n",
    "        break\n",
    "    elif order != menu:    # order (a string) will never be equal to a dict (menu) \n",
    "        print(\"You need to decide!!\")"
   ]
  },
  {
   "cell_type": "code",
   "execution_count": null,
   "metadata": {},
   "outputs": [],
   "source": [
    "# CA, rewritten \n",
    "\n",
    "total = 0     # an integer, the total amount that the person has to pay\n",
    "menu = {'soup': 10, 'tea': 2, 'beer': 5, 'steak': 20}\n",
    "while True:\n",
    "    order = input(\"What you want to order? \")   # a string, the item that the person wants to buy/eat\n",
    "    if order in menu:      # if the user's request (order) is a key in the dict menu...\n",
    "        total += menu[order]\n",
    "    elif order == '':\n",
    "        print(total)\n",
    "        break\n",
    "    else:  # this means: the person's order is *not* a key in the \"menu\" dict\n",
    "        print(\"You need to decide!!\")"
   ]
  },
  {
   "cell_type": "code",
   "execution_count": 25,
   "metadata": {},
   "outputs": [
    {
     "name": "stdin",
     "output_type": "stream",
     "text": [
      "Enter your order please from the following list dict_keys(['pickles', 'balogna', 'drinks', 'fries', 'salad']) asdfafa\n"
     ]
    },
    {
     "name": "stdout",
     "output_type": "stream",
     "text": [
      "We are out of asdfafa today\n"
     ]
    },
    {
     "name": "stdin",
     "output_type": "stream",
     "text": [
      "Enter your order please from the following list dict_keys(['pickles', 'balogna', 'drinks', 'fries', 'salad']) \n"
     ]
    },
    {
     "name": "stdout",
     "output_type": "stream",
     "text": [
      "Your total is 0\n"
     ]
    }
   ],
   "source": [
    "# SL\n",
    "\n",
    "total=0 #Total of bill for eating at the restaurant\n",
    "menu = {'pickles':10, 'balogna':15, 'drinks':8, 'fries':8, 'salad':15}\n",
    "\n",
    "while True:\n",
    "    order = input(f'Enter your order please from the following list {menu.keys()}')\n",
    "\n",
    "    if order == '':\n",
    "        break\n",
    "    \n",
    "    if order in menu:\n",
    "        total += menu[order]\n",
    "    else:\n",
    "        print(f'We are out of {order} today')\n",
    "\n",
    "print(f'Your total is {total}')"
   ]
  },
  {
   "cell_type": "code",
   "execution_count": 27,
   "metadata": {},
   "outputs": [
    {
     "name": "stdin",
     "output_type": "stream",
     "text": [
      "Cosa ordini? asdfafafafsa\n"
     ]
    },
    {
     "name": "stdout",
     "output_type": "stream",
     "text": [
      "0\n"
     ]
    }
   ],
   "source": [
    "# CC\n",
    "\n",
    "total = 0\n",
    "menu = {\"bread\":1, \"coffe\":2, \"muffin\":3}\n",
    "\n",
    "while True:\n",
    "    new_order = input(f\"Cosa ordini?\")\n",
    "\n",
    "    if new_order == '':\n",
    "        break\n",
    "    \n",
    "    if new_order in menu:\n",
    "        total += menu[new_order]\n",
    "    else:\n",
    "        print(f'Your order, {new_order}, is not in stock')\n",
    "    print(\"Vuoi altro?\")\n",
    "print(total)"
   ]
  },
  {
   "cell_type": "code",
   "execution_count": 29,
   "metadata": {},
   "outputs": [
    {
     "name": "stdin",
     "output_type": "stream",
     "text": [
      "please place your Order:  omelet\n"
     ]
    },
    {
     "name": "stdout",
     "output_type": "stream",
     "text": [
      "adding 5, total is 5\n"
     ]
    },
    {
     "name": "stdin",
     "output_type": "stream",
     "text": [
      "please place your Order:  icecream\n"
     ]
    },
    {
     "name": "stdout",
     "output_type": "stream",
     "text": [
      "adding 3, total is 8\n"
     ]
    },
    {
     "name": "stdin",
     "output_type": "stream",
     "text": [
      "please place your Order:  asdfasfaf\n"
     ]
    },
    {
     "ename": "KeyError",
     "evalue": "'asdfasfaf'",
     "output_type": "error",
     "traceback": [
      "\u001b[0;31m---------------------------------------------------------------------------\u001b[0m",
      "\u001b[0;31mKeyError\u001b[0m                                  Traceback (most recent call last)",
      "Cell \u001b[0;32mIn[29], line 16\u001b[0m\n\u001b[1;32m     14\u001b[0m         \u001b[38;5;28;01mcontinue\u001b[39;00m\n\u001b[1;32m     15\u001b[0m     \u001b[38;5;28;01melse\u001b[39;00m:\n\u001b[0;32m---> 16\u001b[0m         \u001b[38;5;28mprint\u001b[39m(\u001b[38;5;124mf\u001b[39m\u001b[38;5;124m'\u001b[39m\u001b[38;5;132;01m{\u001b[39;00m\u001b[43mmenu\u001b[49m\u001b[43m[\u001b[49m\u001b[43morder\u001b[49m\u001b[43m]\u001b[49m\u001b[38;5;132;01m}\u001b[39;00m\u001b[38;5;124m is not a valid order\u001b[39m\u001b[38;5;124m'\u001b[39m)\n\u001b[1;32m     17\u001b[0m \u001b[38;5;28mprint\u001b[39m(\u001b[38;5;124mf\u001b[39m\u001b[38;5;124m'\u001b[39m\u001b[38;5;124myour total is: \u001b[39m\u001b[38;5;132;01m{\u001b[39;00mtotal\u001b[38;5;132;01m}\u001b[39;00m\u001b[38;5;124m'\u001b[39m)\n",
      "\u001b[0;31mKeyError\u001b[0m: 'asdfasfaf'"
     ]
    }
   ],
   "source": [
    "# CK\n",
    "\n",
    "total = 0\n",
    "\n",
    "menu = {'omelet':5,'coffee':2,'cheesecake':6,'tacos':4,'icecream':3}\n",
    "\n",
    "while True:\n",
    "    order = input('please place your Order: ')\n",
    "    if order == '':\n",
    "        break\n",
    "    if order in menu:   # if order is a key in menu, then we can use menu[order]\n",
    "        total += menu[order]\n",
    "        print(f'adding {menu[order]}, total is {total}')\n",
    "        continue\n",
    "\n",
    "\n",
    "    else:  # here, we know that order is *not* a key in menu -- so asking for menu[order] is asking for trouble\n",
    "        print(f'{menu[order]} is not a valid order')\n",
    "print(f'your total is: {total}')"
   ]
  },
  {
   "cell_type": "code",
   "execution_count": null,
   "metadata": {},
   "outputs": [],
   "source": [
    "# EP\n",
    "\n",
    "total = 0\n",
    "\n",
    "menu = { \"burger\": 3.50, \"fries\": 2.50, \"drink\": 1.75 }\n",
    "\n",
    "question = input(\"What would you like to order? \")\n",
    "\n",
    "while question.lower() != \"no\": \n",
    "    if question in menu: \n",
    "        total += menu[question] \n",
    "        print(f\"Adding {question} to your order.\") \n",
    "    else: \n",
    "        print(\"Sorry, we don't have that.\") \n",
    "\n",
    "    question = input(\"Anything else? (Type 'no' to finish) \")\n",
    "\n",
    "print(f\"Your total is ${total:.2f}\")"
   ]
  },
  {
   "cell_type": "code",
   "execution_count": null,
   "metadata": {},
   "outputs": [],
   "source": []
  }
 ],
 "metadata": {
  "kernelspec": {
   "display_name": "Python 3 (ipykernel)",
   "language": "python",
   "name": "python3"
  },
  "language_info": {
   "codemirror_mode": {
    "name": "ipython",
    "version": 3
   },
   "file_extension": ".py",
   "mimetype": "text/x-python",
   "name": "python",
   "nbconvert_exporter": "python",
   "pygments_lexer": "ipython3",
   "version": "3.13.2"
  }
 },
 "nbformat": 4,
 "nbformat_minor": 4
}
