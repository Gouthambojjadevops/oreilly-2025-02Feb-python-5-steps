{
 "cells": [
  {
   "cell_type": "markdown",
   "metadata": {},
   "source": [
    "# Agenda: Week 3\n",
    "\n",
    "1. Questions\n",
    "2. Dictionaries\n",
    "    - What are they?\n",
    "    - How do we create them?\n",
    "    - How do we use them?\n",
    "    - Different paradigms for dict usage\n",
    "3. Files\n",
    "    - What are files?\n",
    "    - How can we read from a file?\n",
    "    - Iterating over files\n",
    "    - Turning files into data structures\n",
    "    - (A little bit) writing to files, and what's involved there"
   ]
  },
  {
   "cell_type": "code",
   "execution_count": null,
   "metadata": {},
   "outputs": [],
   "source": []
  },
  {
   "cell_type": "markdown",
   "metadata": {},
   "source": [
    "# The story so far\n",
    "\n",
    "We've seen a bunch of things so far:\n",
    "\n",
    "- Python's nouns are values\n",
    "- We can assign any value to a variable (a name that lets us keep track of it)\n",
    "- Every value has a type\n",
    "    - Integers\n",
    "    - Floats\n",
    "    - Strings\n",
    "    - Lists\n",
    "    - Tuples\n",
    "- Each data structure is useful for different things\n",
    "    - Faster/slower at retrieval and storage\n",
    "    - Can we modify it? (Is it mutable?)\n",
    "    - What can we store in it?\n",
    "\n",
    "The default data structure we use for storing (and retrieving) is the *list*:\n",
    "- Can store anything at all (although it's traditional for all values to be of the same type)\n",
    "- Items are stored and retrieved via a numeric index, starting at 0\n",
    "- We can modify a list (i.e., it is *mutable*):\n",
    "    - We can update/change an existing value by assigning to that index\n",
    "    - We can add one or more new items to a list, typically at the end, using some methods, including `list.append`\n",
    "    - We can remove one or more items from a list, typically from the end, using some methods, including `list.pop`\n",
    "- You can iterate over the elements of a list, one at a time\n",
    "- What's wrong with lists?\n",
    "    - Because we can modify them, they always have some extra space around in memory, so that the computer doesn't need to allocate new memory each time we do sometime\n",
    "    - If we want to search for a value in a list, we need to iterate over it, one element at a time (this can be slow, if we have a big list)\n",
    "\n",
    "(Both lists and tuples are ordered -- whatever order you create values, the elements will remain in that order.)\n",
    "\n",
    "The first problem is solved, to some degree, by *tuples*.\n",
    "- Tuples are like lists, but they are *immutable*, they cannot be changed\n",
    "- As a result, they have no extra memory -- they are as compact and efficient as something can be in Python\n",
    "- As a result, tuples are often used in Python to represent a collection of data\n",
    "    - A person, who has a name, birthdate, and height -- three different types of values, appropriate for a tuple\n",
    "    - A database record, which has several fields of different types\n",
    "- Even if you won't personally use tuples much, because they are so efficient, Python uses them a *lot* behind the scenes.\n",
    "\n",
    "The second problem (of searching) is solved, in no small part by dictionaries.\n",
    "\n"
   ]
  },
  {
   "cell_type": "markdown",
   "metadata": {},
   "source": [
    "# Lists vs. tuples\n",
    "\n",
    "It's true that lists are mutable and tuples are immutable.  You can never change the length or values in a tuple. You can always change the values and length of a list.\n",
    "\n",
    "HOWEVER, you don't choose between a list and tuple based on whether you plan to change the values. Rather, you choose whether to use a list or tuple based on what you're storing inside of it:\n",
    "\n",
    "- If all of the elements are of the same type (integer, string, etc.), then use a list.\n",
    "- If the elements are of different types, then use a tuple.\n",
    "\n",
    "We don't choose tuples because they're safer, or cannot be changed.\n",
    "\n",
    "If you have districts (all strings) and subdistricts (all strings), then you would likely use two lists. OR as we will see in the next few hours, you might use a dict in which the districts are the keys and the subdistricts are the values."
   ]
  },
  {
   "cell_type": "markdown",
   "metadata": {},
   "source": [
    "# What is a dictionary?\n",
    "\n",
    "They aren't unique to Python. However, other languages call them other things:\n",
    "\n",
    "- Hashes\n",
    "- Hashmaps\n",
    "- Hash tables\n",
    "- Maps\n",
    "- Associative arrays\n",
    "- Key-value stores\n",
    "- Name-value stores\n",
    "\n",
    "Think of a list in which the indexes can be *anything* at all. That is, we won't use 0, 1, 2, 3, etc., but we can use integers (whatever we want) or strings (whatever we want).\n",
    "\n",
    "Suddenly, we aren't asking for the letter at index 5. Rather, we're asking for the number at index `height`. We can determine what the indexes are, although we call it a \"key\" in the world of dictionaries.\n",
    "\n",
    "If you think of a dictionary (\"dict\") as a two-column table in which the first column contains the key (i.e., the index) and the second column contains the value, then you basically have the right mental model.\n",
    "\n",
    "A few rules for dicts:\n",
    "\n",
    "- The keys can be any *immutable* type. That means, for the most part, keys will be integers and strings.\n",
    "- The values can be of any type whatsoever, with no exception.\n",
    "- The keys must be unique in a given dictionary. You cannot have the same key repeat!\n",
    "- Every key has a value, and every value has a key.\n",
    "\n",
    "How do we create a dict? How do we use a dict?\n",
    "\n",
    "We create it using `{}`, with each key separated from its value with `:`. Pairs are separated with commas."
   ]
  },
  {
   "cell_type": "code",
   "execution_count": 1,
   "metadata": {},
   "outputs": [],
   "source": [
    "# this is a very simple dictionary, with three key-value pairs\n",
    "\n",
    "d = {'a':10, 'b':20, 'c':30}"
   ]
  },
  {
   "cell_type": "code",
   "execution_count": 2,
   "metadata": {},
   "outputs": [
    {
     "data": {
      "text/plain": [
       "dict"
      ]
     },
     "execution_count": 2,
     "metadata": {},
     "output_type": "execute_result"
    }
   ],
   "source": [
    "# what type of value is in d?\n",
    "\n",
    "type(d)"
   ]
  },
  {
   "cell_type": "markdown",
   "metadata": {},
   "source": [
    "# Retrieving values from a dict\n",
    "\n",
    "To retrieve a value from a dictionary, we use `[]`, just like with a string, list, or tuple. Inside of the `[]`, we put the key whose value we want to retrieve.\n",
    "\n",
    "The key must be *precisely* the same as when it was stored. If we used a string, then the capitalization, spelling, and whitespace must all be identical.\n",
    "\n",
    "If we ask for a key that doesn't exist, we'll get a `KeyError` error.\n",
    "\n",
    "You always use a key to get a value. You cannot go in the other direction, namely using a value to get a key."
   ]
  },
  {
   "cell_type": "code",
   "execution_count": 3,
   "metadata": {},
   "outputs": [
    {
     "data": {
      "text/plain": [
       "10"
      ]
     },
     "execution_count": 3,
     "metadata": {},
     "output_type": "execute_result"
    }
   ],
   "source": [
    "d['a']   # this will return the value associated with the key 'a' in our dictionary"
   ]
  },
  {
   "cell_type": "code",
   "execution_count": 4,
   "metadata": {},
   "outputs": [
    {
     "data": {
      "text/plain": [
       "20"
      ]
     },
     "execution_count": 4,
     "metadata": {},
     "output_type": "execute_result"
    }
   ],
   "source": [
    "d['b']"
   ]
  },
  {
   "cell_type": "code",
   "execution_count": 5,
   "metadata": {},
   "outputs": [
    {
     "ename": "KeyError",
     "evalue": "'hello'",
     "output_type": "error",
     "traceback": [
      "\u001b[0;31m---------------------------------------------------------------------------\u001b[0m",
      "\u001b[0;31mKeyError\u001b[0m                                  Traceback (most recent call last)",
      "Cell \u001b[0;32mIn[5], line 1\u001b[0m\n\u001b[0;32m----> 1\u001b[0m \u001b[43md\u001b[49m\u001b[43m[\u001b[49m\u001b[38;5;124;43m'\u001b[39;49m\u001b[38;5;124;43mhello\u001b[39;49m\u001b[38;5;124;43m'\u001b[39;49m\u001b[43m]\u001b[49m   \u001b[38;5;66;03m# is there a key 'hello' in d? No, so we'll get an error...\u001b[39;00m\n",
      "\u001b[0;31mKeyError\u001b[0m: 'hello'"
     ]
    }
   ],
   "source": [
    "d['hello']   # is there a key 'hello' in d? No, so we'll get an error..."
   ]
  },
  {
   "cell_type": "markdown",
   "metadata": {},
   "source": [
    "# Where do I use dicts?\n",
    "\n",
    "There is a huge number of problems in programming that involve two parallel sets of information, which we can use as keys and values:\n",
    "\n",
    "- Month names and month numbers\n",
    "- Month numbers and month names\n",
    "- User IDs and user names\n",
    "- User IDs and complete user records as tuples\n",
    "- Filename and file contents\n"
   ]
  },
  {
   "cell_type": "code",
   "execution_count": 6,
   "metadata": {},
   "outputs": [],
   "source": [
    "# another example of a dict\n",
    "# month numbers and names\n",
    "\n",
    "months = {1:'Jan', 2:'Feb', 3:'Mar', 4:'Apr', 5:'May'}"
   ]
  },
  {
   "cell_type": "code",
   "execution_count": 7,
   "metadata": {},
   "outputs": [
    {
     "data": {
      "text/plain": [
       "'Jan'"
      ]
     },
     "execution_count": 7,
     "metadata": {},
     "output_type": "execute_result"
    }
   ],
   "source": [
    "months[1]   # give me the value associated with months[1]"
   ]
  },
  {
   "cell_type": "code",
   "execution_count": 8,
   "metadata": {},
   "outputs": [
    {
     "data": {
      "text/plain": [
       "'Apr'"
      ]
     },
     "execution_count": 8,
     "metadata": {},
     "output_type": "execute_result"
    }
   ],
   "source": [
    "k = 4\n",
    "\n",
    "months[k]   # I can use a variable to retriev"
   ]
  },
  {
   "cell_type": "code",
   "execution_count": 9,
   "metadata": {},
   "outputs": [
    {
     "data": {
      "text/plain": [
       "{'a': 10, 'b': 20, 'c': 30}"
      ]
     },
     "execution_count": 9,
     "metadata": {},
     "output_type": "execute_result"
    }
   ],
   "source": [
    "d"
   ]
  },
  {
   "cell_type": "code",
   "execution_count": 10,
   "metadata": {},
   "outputs": [
    {
     "data": {
      "text/plain": [
       "30"
      ]
     },
     "execution_count": 10,
     "metadata": {},
     "output_type": "execute_result"
    }
   ],
   "source": [
    "k = 'c'\n",
    "\n",
    "d[k]"
   ]
  },
  {
   "cell_type": "code",
   "execution_count": 11,
   "metadata": {},
   "outputs": [
    {
     "data": {
      "text/plain": [
       "True"
      ]
     },
     "execution_count": 11,
     "metadata": {},
     "output_type": "execute_result"
    }
   ],
   "source": [
    "# what if I want to avoid errors?\n",
    "# how can I check if a key is in a dict?\n",
    "\n",
    "# we use \"in\" to look in the keys (not in the values)\n",
    "\n",
    "'a' in d  # this means: is 'a' a key in d?"
   ]
  },
  {
   "cell_type": "code",
   "execution_count": 13,
   "metadata": {},
   "outputs": [
    {
     "name": "stdout",
     "output_type": "stream",
     "text": [
      "10\n"
     ]
    }
   ],
   "source": [
    "if 'a' in d:\n",
    "    print(d['a'])\n",
    "else:\n",
    "    print(f'a is not a key in d')"
   ]
  },
  {
   "cell_type": "code",
   "execution_count": 14,
   "metadata": {},
   "outputs": [
    {
     "name": "stdout",
     "output_type": "stream",
     "text": [
      "qrst is not a key in d\n"
     ]
    }
   ],
   "source": [
    "if 'qrst' in d:\n",
    "    print(d['qrst'])\n",
    "else:\n",
    "    print(f'qrst is not a key in d')"
   ]
  },
  {
   "cell_type": "code",
   "execution_count": 15,
   "metadata": {},
   "outputs": [],
   "source": [
    "# let's create a dict, months, in which integers are the keys\n",
    "# and strings are the values\n",
    "\n",
    "months = {1:'Jan', 2:'Feb', 3:'Mar', 4:'Apr', 5:'May'}"
   ]
  },
  {
   "cell_type": "code",
   "execution_count": 16,
   "metadata": {},
   "outputs": [
    {
     "data": {
      "text/plain": [
       "'Jan'"
      ]
     },
     "execution_count": 16,
     "metadata": {},
     "output_type": "execute_result"
    }
   ],
   "source": [
    "months[1]   # use the key (1) to get the value"
   ]
  },
  {
   "cell_type": "code",
   "execution_count": 17,
   "metadata": {},
   "outputs": [
    {
     "ename": "KeyError",
     "evalue": "'Jan'",
     "output_type": "error",
     "traceback": [
      "\u001b[0;31m---------------------------------------------------------------------------\u001b[0m",
      "\u001b[0;31mKeyError\u001b[0m                                  Traceback (most recent call last)",
      "Cell \u001b[0;32mIn[17], line 1\u001b[0m\n\u001b[0;32m----> 1\u001b[0m \u001b[43mmonths\u001b[49m\u001b[43m[\u001b[49m\u001b[38;5;124;43m'\u001b[39;49m\u001b[38;5;124;43mJan\u001b[39;49m\u001b[38;5;124;43m'\u001b[39;49m\u001b[43m]\u001b[49m  \u001b[38;5;66;03m# what if I try to retrieve via the value?\u001b[39;00m\n",
      "\u001b[0;31mKeyError\u001b[0m: 'Jan'"
     ]
    }
   ],
   "source": [
    "months['Jan']  # what if I try to retrieve via the value?"
   ]
  },
  {
   "cell_type": "code",
   "execution_count": 18,
   "metadata": {},
   "outputs": [
    {
     "ename": "NameError",
     "evalue": "name 'Jan' is not defined",
     "output_type": "error",
     "traceback": [
      "\u001b[0;31m---------------------------------------------------------------------------\u001b[0m",
      "\u001b[0;31mNameError\u001b[0m                                 Traceback (most recent call last)",
      "Cell \u001b[0;32mIn[18], line 3\u001b[0m\n\u001b[1;32m      1\u001b[0m \u001b[38;5;66;03m# Moreover, you didn't put quotes around your text:\u001b[39;00m\n\u001b[0;32m----> 3\u001b[0m months[\u001b[43mJan\u001b[49m]   \u001b[38;5;66;03m# it'll look for a variable named Jan, which doesn't exist\u001b[39;00m\n",
      "\u001b[0;31mNameError\u001b[0m: name 'Jan' is not defined"
     ]
    }
   ],
   "source": [
    "# Moreover, you didn't put quotes around your text:\n",
    "\n",
    "months[Jan]   # it'll look for a variable named Jan, which doesn't exist"
   ]
  },
  {
   "cell_type": "markdown",
   "metadata": {},
   "source": [
    "# Exercise: Restaurant\n",
    "\n",
    "1. Define `total` to be 0. This will be the total bill for eating at the restaurant.\n",
    "2. Define a dict, `menu`, whose keys are strings (the items on the menu) and whose values are integers (the prices of those items).\n",
    "3. Ask the user, repeatedly, to order something on the menu. (Here, you'll use a `while True` loop.)\n",
    "    - If the user enters an empty string, then stop asking (i.e., use `break` to exit the loop)\n",
    "    - If the user's order is on the menu (i.e., if what they entered is a key in our `menu` dict), then add the price to `total`, and print the item, the price, and the new total\n",
    "    - If the user's order is *not* on the menu (i.e., if their entered order is *not* a key, which you can check, with `in`), then scold them a bit.\n",
    "4. At the end, print the total.\n",
    "\n",
    "Example:\n",
    "\n",
    "    Order: sandwich\n",
    "    sandwich is 10, total is now 10\n",
    "    Order: tea\n",
    "    tea is 8, total is now 18\n",
    "    Order: elephant\n",
    "    We're all out of elephant today!\n",
    "    Order: [ENTER]\n",
    "    Total is 18\n",
    "\n"
   ]
  },
  {
   "cell_type": "code",
   "execution_count": 21,
   "metadata": {},
   "outputs": [
    {
     "name": "stdin",
     "output_type": "stream",
     "text": [
      "Order:  sandwich\n"
     ]
    },
    {
     "name": "stdout",
     "output_type": "stream",
     "text": [
      "sandwich costs 10, total is now 10\n"
     ]
    },
    {
     "name": "stdin",
     "output_type": "stream",
     "text": [
      "Order:  tea\n"
     ]
    },
    {
     "name": "stdout",
     "output_type": "stream",
     "text": [
      "tea costs 8, total is now 18\n"
     ]
    },
    {
     "name": "stdin",
     "output_type": "stream",
     "text": [
      "Order:  apple\n"
     ]
    },
    {
     "name": "stdout",
     "output_type": "stream",
     "text": [
      "apple costs 3, total is now 21\n"
     ]
    },
    {
     "name": "stdin",
     "output_type": "stream",
     "text": [
      "Order:  something else\n"
     ]
    },
    {
     "name": "stdout",
     "output_type": "stream",
     "text": [
      "Sorry, we are out of something else today!\n"
     ]
    },
    {
     "name": "stdin",
     "output_type": "stream",
     "text": [
      "Order:  \n"
     ]
    },
    {
     "name": "stdout",
     "output_type": "stream",
     "text": [
      "Total is 21\n"
     ]
    }
   ],
   "source": [
    "total = 0\n",
    "\n",
    "menu = { 'sandwich':10  ,  'tea':8   ,  'apple':3   , 'cake':10   }\n",
    "\n",
    "while True:    # infinite loop\n",
    "    order = input('Order: ').strip()\n",
    "\n",
    "    if order == '':   # did the user enter an empty string?\n",
    "        break\n",
    "\n",
    "    if order in menu:        # is the user's input string, order, a key in our dict?\n",
    "        price = menu[order]  # get the price\n",
    "        total += price\n",
    "        print(f'{order} costs { price}, total is now {total}')\n",
    "\n",
    "    else:    # if it wasn't a key in our menu dict\n",
    "        print(f'Sorry, we are out of {order} today!')\n",
    "\n",
    "print(f'Total is {total}')        "
   ]
  },
  {
   "cell_type": "code",
   "execution_count": 20,
   "metadata": {},
   "outputs": [
    {
     "data": {
      "text/plain": [
       "4"
      ]
     },
     "execution_count": 20,
     "metadata": {},
     "output_type": "execute_result"
    }
   ],
   "source": [
    "len(menu)   # how big is this menu?"
   ]
  },
  {
   "cell_type": "code",
   "execution_count": 22,
   "metadata": {},
   "outputs": [
    {
     "name": "stdin",
     "output_type": "stream",
     "text": [
      "enter your order: sandwich\n"
     ]
    },
    {
     "name": "stdout",
     "output_type": "stream",
     "text": [
      "sandwich is 10, total is now 10\n"
     ]
    },
    {
     "name": "stdin",
     "output_type": "stream",
     "text": [
      "enter your order: \n"
     ]
    },
    {
     "name": "stdout",
     "output_type": "stream",
     "text": [
      "Total is: 10\n"
     ]
    }
   ],
   "source": [
    "# TT\n",
    "\n",
    "total = 0\n",
    "menu = { 'sandwich':10, 'tea': 8, 'coffee': 8}\n",
    "\n",
    "while True:\n",
    "    order = input('enter your order:').strip()\n",
    "    if order in menu:\n",
    "        total += menu[order]\n",
    "        print(f'{order} is {menu[order]}, total is now {total}')\n",
    "    elif order == '':\n",
    "        break\n",
    "    else:\n",
    "        print(f'We\\'re out of {order} today!')\n",
    "\n",
    "print(f'Total is: {total}')"
   ]
  },
  {
   "cell_type": "code",
   "execution_count": null,
   "metadata": {},
   "outputs": [],
   "source": [
    "# CA\n",
    "\n",
    "total = 0     # an integer, the total amount that the person has to pay\n",
    "menu = {'soup': 10, 'tea': 2, 'beer': 5, 'steak': 20}\n",
    "while True:\n",
    "    order = input(\"What you want to order? \")   # a string, the item that the person wants to buy/eat\n",
    "    if order in menu:      # if the user's request (order) is a key in the dict menu...\n",
    "        order += total     # total += menu[order]\n",
    "    elif order == '':\n",
    "        print(total)\n",
    "        break\n",
    "    elif order != menu:    # order (a string) will never be equal to a dict (menu) \n",
    "        print(\"You need to decide!!\")"
   ]
  },
  {
   "cell_type": "code",
   "execution_count": null,
   "metadata": {},
   "outputs": [],
   "source": [
    "# CA, rewritten \n",
    "\n",
    "total = 0     # an integer, the total amount that the person has to pay\n",
    "menu = {'soup': 10, 'tea': 2, 'beer': 5, 'steak': 20}\n",
    "while True:\n",
    "    order = input(\"What you want to order? \")   # a string, the item that the person wants to buy/eat\n",
    "    if order in menu:      # if the user's request (order) is a key in the dict menu...\n",
    "        total += menu[order]\n",
    "    elif order == '':\n",
    "        print(total)\n",
    "        break\n",
    "    else:  # this means: the person's order is *not* a key in the \"menu\" dict\n",
    "        print(\"You need to decide!!\")"
   ]
  },
  {
   "cell_type": "code",
   "execution_count": 25,
   "metadata": {},
   "outputs": [
    {
     "name": "stdin",
     "output_type": "stream",
     "text": [
      "Enter your order please from the following list dict_keys(['pickles', 'balogna', 'drinks', 'fries', 'salad']) asdfafa\n"
     ]
    },
    {
     "name": "stdout",
     "output_type": "stream",
     "text": [
      "We are out of asdfafa today\n"
     ]
    },
    {
     "name": "stdin",
     "output_type": "stream",
     "text": [
      "Enter your order please from the following list dict_keys(['pickles', 'balogna', 'drinks', 'fries', 'salad']) \n"
     ]
    },
    {
     "name": "stdout",
     "output_type": "stream",
     "text": [
      "Your total is 0\n"
     ]
    }
   ],
   "source": [
    "# SL\n",
    "\n",
    "total=0 #Total of bill for eating at the restaurant\n",
    "menu = {'pickles':10, 'balogna':15, 'drinks':8, 'fries':8, 'salad':15}\n",
    "\n",
    "while True:\n",
    "    order = input(f'Enter your order please from the following list {menu.keys()}')\n",
    "\n",
    "    if order == '':\n",
    "        break\n",
    "    \n",
    "    if order in menu:\n",
    "        total += menu[order]\n",
    "    else:\n",
    "        print(f'We are out of {order} today')\n",
    "\n",
    "print(f'Your total is {total}')"
   ]
  },
  {
   "cell_type": "code",
   "execution_count": 27,
   "metadata": {},
   "outputs": [
    {
     "name": "stdin",
     "output_type": "stream",
     "text": [
      "Cosa ordini? asdfafafafsa\n"
     ]
    },
    {
     "name": "stdout",
     "output_type": "stream",
     "text": [
      "0\n"
     ]
    }
   ],
   "source": [
    "# CC\n",
    "\n",
    "total = 0\n",
    "menu = {\"bread\":1, \"coffe\":2, \"muffin\":3}\n",
    "\n",
    "while True:\n",
    "    new_order = input(f\"Cosa ordini?\")\n",
    "\n",
    "    if new_order == '':\n",
    "        break\n",
    "    \n",
    "    if new_order in menu:\n",
    "        total += menu[new_order]\n",
    "    else:\n",
    "        print(f'Your order, {new_order}, is not in stock')\n",
    "    print(\"Vuoi altro?\")\n",
    "print(total)"
   ]
  },
  {
   "cell_type": "code",
   "execution_count": 29,
   "metadata": {},
   "outputs": [
    {
     "name": "stdin",
     "output_type": "stream",
     "text": [
      "please place your Order:  omelet\n"
     ]
    },
    {
     "name": "stdout",
     "output_type": "stream",
     "text": [
      "adding 5, total is 5\n"
     ]
    },
    {
     "name": "stdin",
     "output_type": "stream",
     "text": [
      "please place your Order:  icecream\n"
     ]
    },
    {
     "name": "stdout",
     "output_type": "stream",
     "text": [
      "adding 3, total is 8\n"
     ]
    },
    {
     "name": "stdin",
     "output_type": "stream",
     "text": [
      "please place your Order:  asdfasfaf\n"
     ]
    },
    {
     "ename": "KeyError",
     "evalue": "'asdfasfaf'",
     "output_type": "error",
     "traceback": [
      "\u001b[0;31m---------------------------------------------------------------------------\u001b[0m",
      "\u001b[0;31mKeyError\u001b[0m                                  Traceback (most recent call last)",
      "Cell \u001b[0;32mIn[29], line 16\u001b[0m\n\u001b[1;32m     14\u001b[0m         \u001b[38;5;28;01mcontinue\u001b[39;00m\n\u001b[1;32m     15\u001b[0m     \u001b[38;5;28;01melse\u001b[39;00m:\n\u001b[0;32m---> 16\u001b[0m         \u001b[38;5;28mprint\u001b[39m(\u001b[38;5;124mf\u001b[39m\u001b[38;5;124m'\u001b[39m\u001b[38;5;132;01m{\u001b[39;00m\u001b[43mmenu\u001b[49m\u001b[43m[\u001b[49m\u001b[43morder\u001b[49m\u001b[43m]\u001b[49m\u001b[38;5;132;01m}\u001b[39;00m\u001b[38;5;124m is not a valid order\u001b[39m\u001b[38;5;124m'\u001b[39m)\n\u001b[1;32m     17\u001b[0m \u001b[38;5;28mprint\u001b[39m(\u001b[38;5;124mf\u001b[39m\u001b[38;5;124m'\u001b[39m\u001b[38;5;124myour total is: \u001b[39m\u001b[38;5;132;01m{\u001b[39;00mtotal\u001b[38;5;132;01m}\u001b[39;00m\u001b[38;5;124m'\u001b[39m)\n",
      "\u001b[0;31mKeyError\u001b[0m: 'asdfasfaf'"
     ]
    }
   ],
   "source": [
    "# CK\n",
    "\n",
    "total = 0\n",
    "\n",
    "menu = {'omelet':5,'coffee':2,'cheesecake':6,'tacos':4,'icecream':3}\n",
    "\n",
    "while True:\n",
    "    order = input('please place your Order: ')\n",
    "    if order == '':\n",
    "        break\n",
    "    if order in menu:   # if order is a key in menu, then we can use menu[order]\n",
    "        total += menu[order]\n",
    "        print(f'adding {menu[order]}, total is {total}')\n",
    "        continue\n",
    "\n",
    "\n",
    "    else:  # here, we know that order is *not* a key in menu -- so asking for menu[order] is asking for trouble\n",
    "        print(f'{menu[order]} is not a valid order')\n",
    "print(f'your total is: {total}')"
   ]
  },
  {
   "cell_type": "code",
   "execution_count": null,
   "metadata": {},
   "outputs": [],
   "source": [
    "# EP\n",
    "\n",
    "total = 0\n",
    "\n",
    "menu = { \"burger\": 3.50, \"fries\": 2.50, \"drink\": 1.75 }\n",
    "\n",
    "question = input(\"What would you like to order? \")\n",
    "\n",
    "while question.lower() != \"no\": \n",
    "    if question in menu: \n",
    "        total += menu[question] \n",
    "        print(f\"Adding {question} to your order.\") \n",
    "    else: \n",
    "        print(\"Sorry, we don't have that.\") \n",
    "\n",
    "    question = input(\"Anything else? (Type 'no' to finish) \")\n",
    "\n",
    "print(f\"Your total is ${total:.2f}\")"
   ]
  },
  {
   "cell_type": "code",
   "execution_count": 30,
   "metadata": {},
   "outputs": [
    {
     "name": "stdin",
     "output_type": "stream",
     "text": [
      "Enter order:  burger\n"
     ]
    },
    {
     "name": "stdout",
     "output_type": "stream",
     "text": [
      "Adding burger to your order.\n"
     ]
    },
    {
     "name": "stdin",
     "output_type": "stream",
     "text": [
      "Enter order:  asdfasfsafa\n"
     ]
    },
    {
     "name": "stdout",
     "output_type": "stream",
     "text": [
      "Sorry, we don't have that.\n"
     ]
    },
    {
     "name": "stdin",
     "output_type": "stream",
     "text": [
      "Enter order:  \n"
     ]
    },
    {
     "name": "stdout",
     "output_type": "stream",
     "text": [
      "Your total is $3.50\n"
     ]
    }
   ],
   "source": [
    "# EP, rewritten\n",
    "\n",
    "total = 0\n",
    "\n",
    "menu = { \"burger\": 3.50, \"fries\": 2.50, \"drink\": 1.75 }\n",
    "\n",
    "while True:  \n",
    "    question = input('Enter order: ').strip()\n",
    "\n",
    "    if question == '':   # this is how we can leave the loop\n",
    "        break\n",
    "    \n",
    "    if question in menu: \n",
    "        total += menu[question] \n",
    "        print(f\"Adding {question} to your order.\") \n",
    "        \n",
    "    else: \n",
    "        print(\"Sorry, we don't have that.\") \n",
    "\n",
    "print(f\"Your total is ${total:.2f}\")"
   ]
  },
  {
   "cell_type": "code",
   "execution_count": 31,
   "metadata": {},
   "outputs": [
    {
     "name": "stdin",
     "output_type": "stream",
     "text": [
      "Order:  sandwich\n"
     ]
    },
    {
     "name": "stdout",
     "output_type": "stream",
     "text": [
      "sandwich is 10, total is now 10\n"
     ]
    },
    {
     "name": "stdin",
     "output_type": "stream",
     "text": [
      "Order:  asdfsafsafa\n"
     ]
    },
    {
     "name": "stdout",
     "output_type": "stream",
     "text": [
      "We're all out of that today!\n"
     ]
    },
    {
     "name": "stdin",
     "output_type": "stream",
     "text": [
      "Order:  \n"
     ]
    },
    {
     "name": "stdout",
     "output_type": "stream",
     "text": [
      "Total is 10\n"
     ]
    }
   ],
   "source": [
    "# KM\n",
    "\n",
    "total = 0\n",
    "menu = {\n",
    "    \"sandwich\": 10,\n",
    "    \"tea\": 8,\n",
    "    \"salad\": 7,\n",
    "    \"soup\": 6,\n",
    "    \"coffee\": 5\n",
    "}\n",
    "\n",
    "while True:\n",
    "    order = input(\"Order: \").strip().lower()\n",
    "    \n",
    "    if order == \"\":\n",
    "        break\n",
    "    \n",
    "    if order in menu:\n",
    "        total += menu[order]\n",
    "        print(f\"{order} is {menu[order]}, total is now {total}\")\n",
    "    else:\n",
    "        print(\"We're all out of that today!\")\n",
    "\n",
    "print(f\"Total is {total}\")"
   ]
  },
  {
   "cell_type": "markdown",
   "metadata": {},
   "source": [
    "# Next up\n",
    "\n",
    "1. Modifying/mutating dicts\n",
    "2. Using dicts to keep track of running totals"
   ]
  },
  {
   "cell_type": "markdown",
   "metadata": {},
   "source": [
    "# Dictionaries are mutable!\n",
    "\n",
    "Like lists, dicts are mutable, which means:\n",
    "\n",
    "- We can change the value associated with a key\n",
    "- We can add new key-value pairs\n",
    "- We can remove existing key-value pairs"
   ]
  },
  {
   "cell_type": "code",
   "execution_count": 32,
   "metadata": {},
   "outputs": [],
   "source": [
    "d = {'a':10, 'b':20, 'c':30}     # 3 key-value pairs"
   ]
  },
  {
   "cell_type": "code",
   "execution_count": 33,
   "metadata": {},
   "outputs": [
    {
     "data": {
      "text/plain": [
       "{'a': 10, 'b': 12345, 'c': 30}"
      ]
     },
     "execution_count": 33,
     "metadata": {},
     "output_type": "execute_result"
    }
   ],
   "source": [
    "# how can I change the value associated with a key?\n",
    "\n",
    "d['b'] = 12345   # this assigns the value 12345 instead of whatever is already there.\n",
    "d"
   ]
  },
  {
   "cell_type": "code",
   "execution_count": 34,
   "metadata": {},
   "outputs": [
    {
     "data": {
      "text/plain": [
       "{'a': 10, 'b': 12345, 'c': 45}"
      ]
     },
     "execution_count": 34,
     "metadata": {},
     "output_type": "execute_result"
    }
   ],
   "source": [
    "# we can similarly use += to update the value based on what's there\n",
    "\n",
    "d['c'] += 15    # this is the same as saying d['c'] = d['c'] + 15\n",
    "d"
   ]
  },
  {
   "cell_type": "code",
   "execution_count": 35,
   "metadata": {},
   "outputs": [],
   "source": [
    "# how can I add a new key-value pair?\n",
    "# with a list, I add a new element with list.append\n",
    "\n",
    "# in a dict, it's far easier -- I just assign to the key and value\n",
    "# yes, this looks *precisely* the same as updating a value on an existing key\n",
    "\n",
    "d['new'] = 9876"
   ]
  },
  {
   "cell_type": "code",
   "execution_count": 36,
   "metadata": {},
   "outputs": [
    {
     "data": {
      "text/plain": [
       "{'a': 10, 'b': 12345, 'c': 45, 'new': 9876}"
      ]
     },
     "execution_count": 36,
     "metadata": {},
     "output_type": "execute_result"
    }
   ],
   "source": [
    "d"
   ]
  },
  {
   "cell_type": "code",
   "execution_count": 37,
   "metadata": {},
   "outputs": [
    {
     "data": {
      "text/plain": [
       "{'a': 10, 'b': 12345, 'c': 45, 'new': 9891}"
      ]
     },
     "execution_count": 37,
     "metadata": {},
     "output_type": "execute_result"
    }
   ],
   "source": [
    "d['new'] += 15   \n",
    "\n",
    "d"
   ]
  },
  {
   "cell_type": "code",
   "execution_count": 38,
   "metadata": {},
   "outputs": [
    {
     "ename": "KeyError",
     "evalue": "'other'",
     "output_type": "error",
     "traceback": [
      "\u001b[0;31m---------------------------------------------------------------------------\u001b[0m",
      "\u001b[0;31mKeyError\u001b[0m                                  Traceback (most recent call last)",
      "Cell \u001b[0;32mIn[38], line 3\u001b[0m\n\u001b[1;32m      1\u001b[0m \u001b[38;5;66;03m# what if I use += with a brand-new key?\u001b[39;00m\n\u001b[0;32m----> 3\u001b[0m \u001b[43md\u001b[49m\u001b[43m[\u001b[49m\u001b[38;5;124;43m'\u001b[39;49m\u001b[38;5;124;43mother\u001b[39;49m\u001b[38;5;124;43m'\u001b[39;49m\u001b[43m]\u001b[49m \u001b[38;5;241m+\u001b[39m\u001b[38;5;241m=\u001b[39m \u001b[38;5;241m10\u001b[39m  \u001b[38;5;66;03m# what will happen here?\u001b[39;00m\n",
      "\u001b[0;31mKeyError\u001b[0m: 'other'"
     ]
    }
   ],
   "source": [
    "# what if I use += with a brand-new key?\n",
    "\n",
    "d['other'] += 10  # what will happen here?"
   ]
  },
  {
   "cell_type": "code",
   "execution_count": 39,
   "metadata": {},
   "outputs": [
    {
     "data": {
      "text/plain": [
       "{'b': 12345, 'c': 45, 'new': 9891}"
      ]
     },
     "execution_count": 39,
     "metadata": {},
     "output_type": "execute_result"
    }
   ],
   "source": [
    "# we can remove an existing key-value pair by invoking dict.pop\n",
    "# we pass the key to the method, and the key-value pair is removed\n",
    "# the value is returned\n",
    "\n",
    "d.pop('a')   # this will return a's value and remove the pair\n",
    "d"
   ]
  },
  {
   "cell_type": "code",
   "execution_count": 40,
   "metadata": {},
   "outputs": [
    {
     "data": {
      "text/plain": [
       "['sd1', 'sd2', 'sd3']"
      ]
     },
     "execution_count": 40,
     "metadata": {},
     "output_type": "execute_result"
    }
   ],
   "source": [
    "# SL asked, what if we have districts and subdistricts?\n",
    "# we could have a dict in which the keys are strings and the values are lists of strings\n",
    "\n",
    "d = {'dist1': ['sd1', 'sd2', 'sd3'],\n",
    "     'dist2': ['sd4', 'sd5', 'sd6']}\n",
    "\n",
    "d['dist1']"
   ]
  },
  {
   "cell_type": "code",
   "execution_count": 41,
   "metadata": {},
   "outputs": [
    {
     "data": {
      "text/plain": [
       "['sd4', 'sd5', 'sd6']"
      ]
     },
     "execution_count": 41,
     "metadata": {},
     "output_type": "execute_result"
    }
   ],
   "source": [
    "d['dist2']"
   ]
  },
  {
   "cell_type": "code",
   "execution_count": 42,
   "metadata": {},
   "outputs": [
    {
     "data": {
      "text/plain": [
       "{'dist1': ['sd1', 'sd2', 'sd3'], 'dist2': ['sd4', 'sd5', 'sd6', 'sd7']}"
      ]
     },
     "execution_count": 42,
     "metadata": {},
     "output_type": "execute_result"
    }
   ],
   "source": [
    "# can I add a new subdistrict to dist2?\n",
    "\n",
    "d['dist2'].append('sd7')\n",
    "\n",
    "d"
   ]
  },
  {
   "cell_type": "code",
   "execution_count": 45,
   "metadata": {},
   "outputs": [
    {
     "data": {
      "text/plain": [
       "{'a': 12345}"
      ]
     },
     "execution_count": 45,
     "metadata": {},
     "output_type": "execute_result"
    }
   ],
   "source": [
    "# CK\n",
    "\n",
    "a = 12345\n",
    "d = {  'a' : a   }   # key is the string 'a', and the value is whatever was in the variable a \n",
    "\n",
    "d"
   ]
  },
  {
   "cell_type": "code",
   "execution_count": 46,
   "metadata": {},
   "outputs": [
    {
     "ename": "TypeError",
     "evalue": "unsupported operand type(s) for +=: 'int' and 'dict'",
     "output_type": "error",
     "traceback": [
      "\u001b[0;31m---------------------------------------------------------------------------\u001b[0m",
      "\u001b[0;31mTypeError\u001b[0m                                 Traceback (most recent call last)",
      "Cell \u001b[0;32mIn[46], line 1\u001b[0m\n\u001b[0;32m----> 1\u001b[0m \u001b[43md\u001b[49m\u001b[43m[\u001b[49m\u001b[38;5;124;43m'\u001b[39;49m\u001b[38;5;124;43ma\u001b[39;49m\u001b[38;5;124;43m'\u001b[39;49m\u001b[43m]\u001b[49m\u001b[43m \u001b[49m\u001b[38;5;241;43m+\u001b[39;49m\u001b[38;5;241;43m=\u001b[39;49m\u001b[43md\u001b[49m   \u001b[38;5;66;03m# this means: add the dictionary d to the value of d['a']  -- you can't add a dict to an integer\u001b[39;00m\n",
      "\u001b[0;31mTypeError\u001b[0m: unsupported operand type(s) for +=: 'int' and 'dict'"
     ]
    }
   ],
   "source": [
    "d['a'] +=d   # this means: add the dictionary d to the value of d['a']  -- you can't add a dict to an integer"
   ]
  },
  {
   "cell_type": "code",
   "execution_count": 47,
   "metadata": {},
   "outputs": [
    {
     "name": "stdout",
     "output_type": "stream",
     "text": [
      "12345\n"
     ]
    }
   ],
   "source": [
    "print(d['a'])"
   ]
  },
  {
   "cell_type": "markdown",
   "metadata": {},
   "source": [
    "# Common dict paradigm: Accumulating\n",
    "\n",
    "We've now seen that we can define a dict with keys and initial values (e.g., 0) and then add to those values over time. That's a pretty common use of dicts -- we don't, over the course of the program, add/remove keys. But we do update the values associated with them."
   ]
  },
  {
   "cell_type": "code",
   "execution_count": 48,
   "metadata": {},
   "outputs": [
    {
     "name": "stdin",
     "output_type": "stream",
     "text": [
      "Enter a number:  10\n",
      "Enter a number:  15\n",
      "Enter a number:  20\n",
      "Enter a number:  22\n",
      "Enter a number:  \n"
     ]
    },
    {
     "name": "stdout",
     "output_type": "stream",
     "text": [
      "{'odds': 1, 'evens': 3}\n"
     ]
    }
   ],
   "source": [
    "# odds and evens\n",
    "\n",
    "counts = {'odds':0,\n",
    "          'evens':0}\n",
    "\n",
    "while True:\n",
    "    s = input('Enter a number: ').strip()\n",
    "\n",
    "    if s == '':   # if we got an empty string, stop asking\n",
    "        break\n",
    "\n",
    "    if not s.isdigit():     # can we turn this into an integer?\n",
    "        print(f'{s} is not numeric; try again')\n",
    "        continue\n",
    "\n",
    "    n = int(s)   # get an integer based on s\n",
    "\n",
    "    if n % 2 == 0:  # if dividing n by 2 has no remainder, it's even\n",
    "        counts['evens'] += 1\n",
    "    else:\n",
    "        counts['odds'] += 1\n",
    "\n",
    "print(counts)\n",
    "        "
   ]
  },
  {
   "cell_type": "markdown",
   "metadata": {},
   "source": [
    "# Exercise: Vowels, digits, and others (dict edition)\n",
    "\n",
    "1. Define a dict `counts` with three key-value pairs. The keys should be `vowels`, `digits`, and `others`. The values should all be 0.\n",
    "2. Ask the user to enter a string.\n",
    "3. Go through the string, one character at a time (with a `for` loop):\n",
    "    - If it's a vowel, add 1 to the `vowels` value\n",
    "    - If it's a digit, add 1 to the `digits` value\n",
    "    - Otherwise, add 1 to `others`\n",
    "4. Print the dict"
   ]
  },
  {
   "cell_type": "code",
   "execution_count": 49,
   "metadata": {},
   "outputs": [
    {
     "name": "stdin",
     "output_type": "stream",
     "text": [
      "Enter a string:  hello everyone, 1234\n"
     ]
    },
    {
     "name": "stdout",
     "output_type": "stream",
     "text": [
      "{'vowels': 6, 'digits': 4, 'others': 10}\n"
     ]
    }
   ],
   "source": [
    "counts = {'vowels':0, 'digits':0, 'others':0}\n",
    "\n",
    "s = input('Enter a string: ').strip()\n",
    "\n",
    "for one_character in s:\n",
    "    if one_character in 'aeiou':\n",
    "        counts['vowels'] += 1\n",
    "    elif one_character.isdigit():\n",
    "        counts['digits'] += 1\n",
    "    else:\n",
    "        counts['others'] += 1\n",
    "\n",
    "print(counts)        "
   ]
  },
  {
   "cell_type": "code",
   "execution_count": null,
   "metadata": {},
   "outputs": [],
   "source": [
    "# SL\n",
    "\n",
    "# this is a dict ('counts') with three key-value pairs\n",
    "counts = {'vowels':0,  'digits':0, 'others':0}\n",
    "\n",
    "string=input('Enter a string').lower()\n",
    "for one_character in string:\n",
    "    if one_character.lower () in 'aeiou':\n",
    "        counts['vowels'] += 1\n",
    "    elif one_character.isdigit():    # str.isdigit returns True/False\n",
    "        counts['digits'] += 1\n",
    "    else:\n",
    "        counts['others'] += 1\n",
    "\n",
    "print(counts)        "
   ]
  },
  {
   "cell_type": "code",
   "execution_count": null,
   "metadata": {},
   "outputs": [],
   "source": [
    "# NB\n",
    "\n",
    "count = {'vowels':0, 'digits':0, 'others':0}\n",
    "\n",
    "text = input(\"Enter a text: \").strip()\n",
    "\n",
    "for s in text:\n",
    "    if s.lower() in \"aeiou\":\n",
    "        print(f\"Found a vowel: {s}\")\n",
    "        count['vowels'] += 1\n",
    "    elif s.isdigit():\n",
    "        print(f\"Found a digit: {s}\")\n",
    "        count['digits'] += 1\n",
    "    else:\n",
    "        print(f\"Found other character: {s}\")\n",
    "        count['others'] += 1\n",
    "\n",
    "print(\"*****************************************\")\n",
    "print(count)"
   ]
  },
  {
   "cell_type": "code",
   "execution_count": 50,
   "metadata": {},
   "outputs": [
    {
     "name": "stdin",
     "output_type": "stream",
     "text": [
      "Enter a string:  hello? 123\n"
     ]
    },
    {
     "name": "stdout",
     "output_type": "stream",
     "text": [
      "h\n",
      "e\n",
      "l\n",
      "l\n",
      "o\n",
      "?\n",
      " \n",
      "1\n",
      "2\n",
      "3\n",
      "{'vowels': 2, 'digits': 3, 'others': 5}\n"
     ]
    }
   ],
   "source": [
    "# KM\n",
    "\n",
    "counts = {'vowels':0,\n",
    "          'digits':0,\n",
    "          'others':0}\n",
    "\n",
    "\n",
    "s = input('Enter a string: ').strip()\n",
    "\n",
    "for one_character in s:\n",
    "    if one_character in 'aeiou':\n",
    "    \tcounts['vowels'] += 1\n",
    "    elif one_character.isdigit():\n",
    "    \tcounts['digits'] += 1\n",
    "    else:\n",
    "    \tcounts['others'] +=1\n",
    "        \n",
    "print(counts)"
   ]
  },
  {
   "cell_type": "code",
   "execution_count": 51,
   "metadata": {},
   "outputs": [
    {
     "data": {
      "text/plain": [
       "{'vowels': 2, 'digits': 3, 'others': 5}"
      ]
     },
     "execution_count": 51,
     "metadata": {},
     "output_type": "execute_result"
    }
   ],
   "source": [
    "counts"
   ]
  },
  {
   "cell_type": "markdown",
   "metadata": {},
   "source": [
    "# Iterating over a dict\n",
    "\n",
    "We've seen that we can use a `for` loop on many different types of values in Python:\n",
    "\n",
    "- On a string, we get each character\n",
    "- On a list, we get each element\n",
    "- On a tuple, we get each element\n",
    "\n",
    "What will happen if we iterate over a dict with a `for` loop?"
   ]
  },
  {
   "cell_type": "code",
   "execution_count": 52,
   "metadata": {},
   "outputs": [
    {
     "name": "stdout",
     "output_type": "stream",
     "text": [
      "vowels\n",
      "digits\n",
      "others\n"
     ]
    }
   ],
   "source": [
    "# when you iterate over a dict, you get the *keys*!\n",
    "\n",
    "for one_thing in counts:\n",
    "    print(one_thing)"
   ]
  },
  {
   "cell_type": "code",
   "execution_count": 53,
   "metadata": {},
   "outputs": [
    {
     "name": "stdout",
     "output_type": "stream",
     "text": [
      "vowels: 2\n",
      "digits: 3\n",
      "others: 5\n"
     ]
    }
   ],
   "source": [
    "# we can print all of the key-value pairs as follows:\n",
    "\n",
    "for one_key in counts:\n",
    "    print(f'{one_key}: {counts[one_key]}')"
   ]
  },
  {
   "cell_type": "code",
   "execution_count": 54,
   "metadata": {},
   "outputs": [
    {
     "name": "stdout",
     "output_type": "stream",
     "text": [
      "vowels: 2\n",
      "digits: 3\n",
      "others: 5\n"
     ]
    }
   ],
   "source": [
    "# I don't like to iterate over dicts this way, though\n",
    "# because I need to mention the dict's name both in the \"for\" line and inside of the loop body\n",
    "# isn't there a way for me to get both the key and the value with each iteration?\n",
    "\n",
    "# yes: I can use the dict.items method, which returns a 2-element tuple (key, value) with each iteration\n",
    "\n",
    "# in other words:\n",
    "\n",
    "for key, value in counts.items():   # tuple unpacking in the for loop!\n",
    "    print(f'{key}: {value}')"
   ]
  },
  {
   "cell_type": "markdown",
   "metadata": {},
   "source": [
    "You might see people using the dict.keys() method, either in a for loop or with \"in\" to search.\n",
    "\n",
    "**DO NOT USE `dict.keys()`!!**"
   ]
  },
  {
   "cell_type": "markdown",
   "metadata": {},
   "source": [
    "# Demo: Vowels, digits, and others (dict edition -- keeping the characters)\n",
    "\n",
    "1. Define a dict `counts` with three key-value pairs. The keys should be `vowels`, `digits`, and `others`. The values should all be `[]`, the empty list.\n",
    "2. Ask the user to enter a string.\n",
    "3. Go through the string, one character at a time (with a `for` loop):\n",
    "    - If it's a vowel, append it to `counts['vowels']`\n",
    "    - If it's a digit, append it to `counts['digits']`\n",
    "    - Otherwise, append it to `counts['others']`\n",
    "4. Print the dict"
   ]
  },
  {
   "cell_type": "code",
   "execution_count": 55,
   "metadata": {},
   "outputs": [
    {
     "name": "stdin",
     "output_type": "stream",
     "text": [
      "Enter text:  hello? 123\n"
     ]
    },
    {
     "name": "stdout",
     "output_type": "stream",
     "text": [
      "vowels: ['e', 'o']\n",
      "digits: ['1', '2', '3']\n",
      "others: ['h', 'l', 'l', '?', ' ']\n"
     ]
    }
   ],
   "source": [
    "counts = {'vowels':[],\n",
    "          'digits':[],\n",
    "          'others':[]}\n",
    "\n",
    "text = input('Enter text: ').strip()\n",
    "\n",
    "for one_character in text:\n",
    "    if one_character in 'aeiou':\n",
    "        counts['vowels'].append(one_character)  # appends one_character to counts['vowels']\n",
    "    elif one_character.isdigit():\n",
    "        counts['digits'].append(one_character)  # appends one_character to counts['digits']\n",
    "    else:\n",
    "        counts['others'].append(one_character)  # appends one_character to counts['others']\n",
    "\n",
    "for key, value in counts.items():\n",
    "    print(f'{key}: {value}')       \n",
    "        "
   ]
  },
  {
   "cell_type": "code",
   "execution_count": 56,
   "metadata": {},
   "outputs": [],
   "source": [
    "x = 10"
   ]
  },
  {
   "cell_type": "code",
   "execution_count": 57,
   "metadata": {},
   "outputs": [
    {
     "data": {
      "text/plain": [
       "'abcdefgh'"
      ]
     },
     "execution_count": 57,
     "metadata": {},
     "output_type": "execute_result"
    }
   ],
   "source": [
    "s = 'abcdEFGH'\n",
    "\n",
    "s.lower()"
   ]
  },
  {
   "cell_type": "markdown",
   "metadata": {},
   "source": [
    "# Jupyter\n",
    "\n",
    "- If you want to install it on your own computer, I made some videos for O'Reilly about how to install Python and Jupyter, on their own and via VSCode\n",
    "- If you don't want to install it on your computer, there are a few options, but Google Colab is probably the easiest to work with -- free and a bit old, but stable."
   ]
  },
  {
   "cell_type": "markdown",
   "metadata": {},
   "source": [
    "# Next up\n",
    "\n",
    "1. The third paradigm for using dicts: Start with nothing!\n",
    "2. How do dicts work?\n",
    "3. Files -- reading from them and a little writing to them"
   ]
  },
  {
   "cell_type": "markdown",
   "metadata": {},
   "source": [
    "# Dict paradigm 3: Start with nothing\n",
    "\n",
    "Another common way to use dicts is to start with an empty dict ( `{}` ) and then add either keys (when you first encounter them) or values (if you want to update an existing one).\n",
    "\n",
    "Here, you have to check whether a key is already in the dict:\n",
    "- If so, then just update the value\n",
    "- If not, then add a new key-value pair, with the value being an initial one -- 0, 1, `[]`, or the like"
   ]
  },
  {
   "cell_type": "code",
   "execution_count": 59,
   "metadata": {},
   "outputs": [
    {
     "name": "stdin",
     "output_type": "stream",
     "text": [
      "Enter text:  hello out there\n"
     ]
    },
    {
     "name": "stdout",
     "output_type": "stream",
     "text": [
      "h: 2\n",
      "e: 3\n",
      "l: 2\n",
      "o: 2\n",
      " : 2\n",
      "u: 1\n",
      "t: 2\n",
      "r: 1\n"
     ]
    }
   ],
   "source": [
    "# Example: Count characters\n",
    "\n",
    "counts = {}  # empty dict!\n",
    "\n",
    "text = input('Enter text: ').strip()  # running strip means that we remove leading/trailing whitespace\n",
    "\n",
    "for one_character in text:\n",
    "    # if I have already seen this character, then add 1 to the count for it\n",
    "    if one_character in counts:\n",
    "        counts[one_character] += 1     # add 1 to the existing value\n",
    "\n",
    "    # if this is a new character, then add it to the dict as the key, with 1 as the value\n",
    "    else:\n",
    "        counts[one_character] = 1      # set an initial value of 1\n",
    "\n",
    "for key, value in counts.items():\n",
    "    print(f'{key}: {value}')   "
   ]
  },
  {
   "cell_type": "code",
   "execution_count": 60,
   "metadata": {},
   "outputs": [
    {
     "data": {
      "text/plain": [
       "{'h': 2, 'e': 3, 'l': 2, 'o': 2, ' ': 2, 'u': 1, 't': 2, 'r': 1}"
      ]
     },
     "execution_count": 60,
     "metadata": {},
     "output_type": "execute_result"
    }
   ],
   "source": [
    "counts"
   ]
  },
  {
   "cell_type": "markdown",
   "metadata": {},
   "source": [
    "# Exercise: Rainfall\n",
    "\n",
    "The goal of this exercise is "
   ]
  }
 ],
 "metadata": {
  "kernelspec": {
   "display_name": "Python 3 (ipykernel)",
   "language": "python",
   "name": "python3"
  },
  "language_info": {
   "codemirror_mode": {
    "name": "ipython",
    "version": 3
   },
   "file_extension": ".py",
   "mimetype": "text/x-python",
   "name": "python",
   "nbconvert_exporter": "python",
   "pygments_lexer": "ipython3",
   "version": "3.13.2"
  }
 },
 "nbformat": 4,
 "nbformat_minor": 4
}
