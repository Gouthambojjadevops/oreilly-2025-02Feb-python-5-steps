{
 "cells": [
  {
   "cell_type": "markdown",
   "metadata": {},
   "source": [
    "# Agenda: Week 3\n",
    "\n",
    "1. Questions\n",
    "2. Dictionaries\n",
    "    - What are they?\n",
    "    - How do we create them?\n",
    "    - How do we use them?\n",
    "    - Different paradigms for dict usage\n",
    "3. Files\n",
    "    - What are files?\n",
    "    - How can we read from a file?\n",
    "    - Iterating over files\n",
    "    - Turning files into data structures\n",
    "    - (A little bit) writing to files, and what's involved there"
   ]
  },
  {
   "cell_type": "code",
   "execution_count": null,
   "metadata": {},
   "outputs": [],
   "source": []
  }
 ],
 "metadata": {
  "kernelspec": {
   "display_name": "Python 3 (ipykernel)",
   "language": "python",
   "name": "python3"
  },
  "language_info": {
   "codemirror_mode": {
    "name": "ipython",
    "version": 3
   },
   "file_extension": ".py",
   "mimetype": "text/x-python",
   "name": "python",
   "nbconvert_exporter": "python",
   "pygments_lexer": "ipython3",
   "version": "3.13.2"
  }
 },
 "nbformat": 4,
 "nbformat_minor": 4
}
