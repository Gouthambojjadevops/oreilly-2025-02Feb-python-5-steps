{
 "cells": [
  {
   "cell_type": "markdown",
   "metadata": {},
   "source": [
    "# Agenda: Week 3\n",
    "\n",
    "1. Questions\n",
    "2. Dictionaries\n",
    "    - What are they?\n",
    "    - How do we create them?\n",
    "    - How do we use them?\n",
    "    - Different paradigms for dict usage\n",
    "3. Files\n",
    "    - What are files?\n",
    "    - How can we read from a file?\n",
    "    - Iterating over files\n",
    "    - Turning files into data structures\n",
    "    - (A little bit) writing to files, and what's involved there"
   ]
  },
  {
   "cell_type": "code",
   "execution_count": null,
   "metadata": {},
   "outputs": [],
   "source": []
  },
  {
   "cell_type": "markdown",
   "metadata": {},
   "source": [
    "# The story so far\n",
    "\n",
    "We've seen a bunch of things so far:\n",
    "\n",
    "- Python's nouns are values\n",
    "- We can assign any value to a variable (a name that lets us keep track of it)\n",
    "- Every value has a type\n",
    "    - Integers\n",
    "    - Floats\n",
    "    - Strings\n",
    "    - Lists\n",
    "    - Tuples\n",
    "- Each data structure is useful for different things\n",
    "    - Faster/slower at retrieval and storage\n",
    "    - Can we modify it? (Is it mutable?)\n",
    "    - What can we store in it?\n",
    "\n",
    "The default data structure we use for storing (and retrieving) is the *list*:\n",
    "- Can store anything at all (although it's traditional for all values to be of the same type)\n",
    "- Items are stored and retrieved via a numeric index, starting at 0\n",
    "- We can modify a list (i.e., it is *mutable*):\n",
    "    - We can update/change an existing value by assigning to that index\n",
    "    - We can add one or more new items to a list, typically at the end, using some methods, including `list.append`\n",
    "    - We can remove one or more items from a list, typically from the end, using some methods, including `list.pop`\n",
    "- You can iterate over the elements of a list, one at a time\n",
    "- What's wrong with lists?\n",
    "    - Because we can modify them, they always have some extra space around in memory, so that the computer doesn't need to allocate new memory each time we do sometime\n",
    "    - If we want to search for a value in a list, we need to iterate over it, one element at a time (this can be slow, if we have a big list)\n",
    "\n",
    "(Both lists and tuples are ordered -- whatever order you create values, the elements will remain in that order.)\n",
    "\n",
    "The first problem is solved, to some degree, by *tuples*.\n",
    "- Tuples are like lists, but they are *immutable*, they cannot be changed\n",
    "- As a result, they have no extra memory -- they are as compact and efficient as something can be in Python\n",
    "- As a result, tuples are often used in Python to represent a collection of data\n",
    "    - A person, who has a name, birthdate, and height -- three different types of values, appropriate for a tuple\n",
    "    - A database record, which has several fields of different types\n",
    "- Even if you won't personally use tuples much, because they are so efficient, Python uses them a *lot* behind the scenes.\n",
    "\n",
    "The second problem (of searching) is solved, in no small part by dictionaries.\n",
    "\n"
   ]
  },
  {
   "cell_type": "markdown",
   "metadata": {},
   "source": [
    "# Lists vs. tuples\n",
    "\n",
    "It's true that lists are mutable and tuples are immutable.  You can never change the length or values in a tuple. You can always change the values and length of a list.\n",
    "\n",
    "HOWEVER, you don't choose between a list and tuple based on whether you plan to change the values. Rather, you choose whether to use a list or tuple based on what you're storing inside of it:\n",
    "\n",
    "- If all of the elements are of the same type (integer, string, etc.), then use a list.\n",
    "- If the elements are of different types, then use a tuple.\n",
    "\n",
    "We don't choose tuples because they're safer, or cannot be changed.\n",
    "\n",
    "If you have districts (all strings) and subdistricts (all strings), then you would likely use two lists. OR as we will see in the next few hours, you might use a dict in which the districts are the keys and the subdistricts are the values."
   ]
  },
  {
   "cell_type": "markdown",
   "metadata": {},
   "source": [
    "# What is a dictionary?\n",
    "\n",
    "They aren't unique to Python. However, other languages call them other things:\n",
    "\n",
    "- Hashes\n",
    "- Hashmaps\n",
    "- Hash tables\n",
    "- Maps\n",
    "- Associative arrays\n",
    "- Key-value stores\n",
    "- Name-value stores\n",
    "\n",
    "Think of a list in which the indexes can be *anything* at all. That is, we won't use 0, 1, 2, 3, etc., but we can use integers (whatever we want) or strings (whatever we want).\n",
    "\n",
    "Suddenly, we aren't asking for the letter at index 5. Rather, we're asking for the number at index `height`. We can determine what the indexes are, although we call it a \"key\" in the world of dictionaries.\n",
    "\n",
    "If you think of a dictionary (\"dict\") as a two-column table in which the first column contains the key (i.e., the index) and the second column contains the value, then you basically have the right mental model.\n",
    "\n",
    "A few rules for dicts:\n",
    "\n",
    "- The keys can be any *immutable* type. That means, for the most part, keys will be integers and strings.\n",
    "- The values can be of any type whatsoever, with no exception.\n",
    "- The keys must be unique in a given dictionary. You cannot have the same key repeat!\n",
    "- Every key has a value, and every value has a key.\n",
    "\n",
    "How do we create a dict? How do we use a dict?\n",
    "\n",
    "We create it using `{}`, with each key separated from its value with `:`. Pairs are separated with commas."
   ]
  },
  {
   "cell_type": "code",
   "execution_count": 1,
   "metadata": {},
   "outputs": [],
   "source": [
    "# this is a very simple dictionary, with three key-value pairs\n",
    "\n",
    "d = {'a':10, 'b':20, 'c':30}"
   ]
  },
  {
   "cell_type": "code",
   "execution_count": 2,
   "metadata": {},
   "outputs": [
    {
     "data": {
      "text/plain": [
       "dict"
      ]
     },
     "execution_count": 2,
     "metadata": {},
     "output_type": "execute_result"
    }
   ],
   "source": [
    "# what type of value is in d?\n",
    "\n",
    "type(d)"
   ]
  },
  {
   "cell_type": "markdown",
   "metadata": {},
   "source": [
    "# Retrieving values from a dict\n",
    "\n",
    "To retrieve a value from a dictionary, we use `[]`, just like with a string, list, or tuple. Inside of the `[]`, we put the key whose value we want to retrieve.\n",
    "\n",
    "The key must be *precisely* the same as when it was stored. If we used a string, then the capitalization, spelling, and whitespace must all be identical.\n",
    "\n",
    "If we ask for a key that doesn't exist, we'll get a `KeyError` error.\n",
    "\n",
    "You always use a key to get a value. You cannot go in the other direction, namely using a value to get a key."
   ]
  },
  {
   "cell_type": "code",
   "execution_count": 3,
   "metadata": {},
   "outputs": [
    {
     "data": {
      "text/plain": [
       "10"
      ]
     },
     "execution_count": 3,
     "metadata": {},
     "output_type": "execute_result"
    }
   ],
   "source": [
    "d['a']   # this will return the value associated with the key 'a' in our dictionary"
   ]
  },
  {
   "cell_type": "code",
   "execution_count": 4,
   "metadata": {},
   "outputs": [
    {
     "data": {
      "text/plain": [
       "20"
      ]
     },
     "execution_count": 4,
     "metadata": {},
     "output_type": "execute_result"
    }
   ],
   "source": [
    "d['b']"
   ]
  },
  {
   "cell_type": "code",
   "execution_count": 5,
   "metadata": {},
   "outputs": [
    {
     "ename": "KeyError",
     "evalue": "'hello'",
     "output_type": "error",
     "traceback": [
      "\u001b[0;31m---------------------------------------------------------------------------\u001b[0m",
      "\u001b[0;31mKeyError\u001b[0m                                  Traceback (most recent call last)",
      "Cell \u001b[0;32mIn[5], line 1\u001b[0m\n\u001b[0;32m----> 1\u001b[0m \u001b[43md\u001b[49m\u001b[43m[\u001b[49m\u001b[38;5;124;43m'\u001b[39;49m\u001b[38;5;124;43mhello\u001b[39;49m\u001b[38;5;124;43m'\u001b[39;49m\u001b[43m]\u001b[49m   \u001b[38;5;66;03m# is there a key 'hello' in d? No, so we'll get an error...\u001b[39;00m\n",
      "\u001b[0;31mKeyError\u001b[0m: 'hello'"
     ]
    }
   ],
   "source": [
    "d['hello']   # is there a key 'hello' in d? No, so we'll get an error..."
   ]
  },
  {
   "cell_type": "markdown",
   "metadata": {},
   "source": [
    "# Where do I use dicts?\n",
    "\n",
    "There is a huge number of problems in programming that involve two parallel sets of information, which we can use as keys and values:\n",
    "\n",
    "- Month names and month numbers\n",
    "- Month numbers and month names\n",
    "- User IDs and user names\n",
    "- User IDs and complete user records as tuples\n",
    "- Filename and file contents\n"
   ]
  },
  {
   "cell_type": "code",
   "execution_count": 6,
   "metadata": {},
   "outputs": [],
   "source": [
    "# another example of a dict\n",
    "# month numbers and names\n",
    "\n",
    "months = {1:'Jan', 2:'Feb', 3:'Mar', 4:'Apr', 5:'May'}"
   ]
  },
  {
   "cell_type": "code",
   "execution_count": 7,
   "metadata": {},
   "outputs": [
    {
     "data": {
      "text/plain": [
       "'Jan'"
      ]
     },
     "execution_count": 7,
     "metadata": {},
     "output_type": "execute_result"
    }
   ],
   "source": [
    "months[1]   # give me the value associated with months[1]"
   ]
  },
  {
   "cell_type": "code",
   "execution_count": 8,
   "metadata": {},
   "outputs": [
    {
     "data": {
      "text/plain": [
       "'Apr'"
      ]
     },
     "execution_count": 8,
     "metadata": {},
     "output_type": "execute_result"
    }
   ],
   "source": [
    "k = 4\n",
    "\n",
    "months[k]   # I can use a variable to retriev"
   ]
  },
  {
   "cell_type": "code",
   "execution_count": 9,
   "metadata": {},
   "outputs": [
    {
     "data": {
      "text/plain": [
       "{'a': 10, 'b': 20, 'c': 30}"
      ]
     },
     "execution_count": 9,
     "metadata": {},
     "output_type": "execute_result"
    }
   ],
   "source": [
    "d"
   ]
  },
  {
   "cell_type": "code",
   "execution_count": 10,
   "metadata": {},
   "outputs": [
    {
     "data": {
      "text/plain": [
       "30"
      ]
     },
     "execution_count": 10,
     "metadata": {},
     "output_type": "execute_result"
    }
   ],
   "source": [
    "k = 'c'\n",
    "\n",
    "d[k]"
   ]
  },
  {
   "cell_type": "code",
   "execution_count": 11,
   "metadata": {},
   "outputs": [
    {
     "data": {
      "text/plain": [
       "True"
      ]
     },
     "execution_count": 11,
     "metadata": {},
     "output_type": "execute_result"
    }
   ],
   "source": [
    "# what if I want to avoid errors?\n",
    "# how can I check if a key is in a dict?\n",
    "\n",
    "# we use \"in\" to look in the keys (not in the values)\n",
    "\n",
    "'a' in d  # this means: is 'a' a key in d?"
   ]
  },
  {
   "cell_type": "code",
   "execution_count": 13,
   "metadata": {},
   "outputs": [
    {
     "name": "stdout",
     "output_type": "stream",
     "text": [
      "10\n"
     ]
    }
   ],
   "source": [
    "if 'a' in d:\n",
    "    print(d['a'])\n",
    "else:\n",
    "    print(f'a is not a key in d')"
   ]
  },
  {
   "cell_type": "code",
   "execution_count": 14,
   "metadata": {},
   "outputs": [
    {
     "name": "stdout",
     "output_type": "stream",
     "text": [
      "qrst is not a key in d\n"
     ]
    }
   ],
   "source": [
    "if 'qrst' in d:\n",
    "    print(d['qrst'])\n",
    "else:\n",
    "    print(f'qrst is not a key in d')"
   ]
  },
  {
   "cell_type": "code",
   "execution_count": null,
   "metadata": {},
   "outputs": [],
   "source": []
  }
 ],
 "metadata": {
  "kernelspec": {
   "display_name": "Python 3 (ipykernel)",
   "language": "python",
   "name": "python3"
  },
  "language_info": {
   "codemirror_mode": {
    "name": "ipython",
    "version": 3
   },
   "file_extension": ".py",
   "mimetype": "text/x-python",
   "name": "python",
   "nbconvert_exporter": "python",
   "pygments_lexer": "ipython3",
   "version": "3.13.2"
  }
 },
 "nbformat": 4,
 "nbformat_minor": 4
}
