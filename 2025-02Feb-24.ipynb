{
 "cells": [
  {
   "cell_type": "markdown",
   "metadata": {},
   "source": [
    "# Agenda: Week 3\n",
    "\n",
    "1. Questions\n",
    "2. Dictionaries\n",
    "    - What are they?\n",
    "    - How do we create them?\n",
    "    - How do we use them?\n",
    "    - Different paradigms for dict usage\n",
    "3. Files\n",
    "    - What are files?\n",
    "    - How can we read from a file?\n",
    "    - Iterating over files\n",
    "    - Turning files into data structures\n",
    "    - (A little bit) writing to files, and what's involved there"
   ]
  },
  {
   "cell_type": "code",
   "execution_count": null,
   "metadata": {},
   "outputs": [],
   "source": []
  },
  {
   "cell_type": "markdown",
   "metadata": {},
   "source": [
    "# The story so far\n",
    "\n",
    "We've seen a bunch of things so far:\n",
    "\n",
    "- Python's nouns are values\n",
    "- We can assign any value to a variable (a name that lets us keep track of it)\n",
    "- Every value has a type\n",
    "    - Integers\n",
    "    - Floats\n",
    "    - Strings\n",
    "    - Lists\n",
    "    - Tuples\n",
    "- Each data structure is useful for different things\n",
    "    - Faster/slower at retrieval and storage\n",
    "    - Can we modify it? (Is it mutable?)\n",
    "    - What can we store in it?\n",
    "\n",
    "The default data structure we use for storing (and retrieving) is the *list*:\n",
    "- Can store anything at all (although it's traditional for all values to be of the same type)\n",
    "- Items are stored and retrieved via a numeric index, starting at 0\n",
    "- We can modify a list (i.e., it is *mutable*):\n",
    "    - We can update/change an existing value by assigning to that index\n",
    "    - We can add one or more new items to a list, typically at the end, using some methods, including `list.append`\n",
    "    - We can remove one or more items from a list, typically from the end, using some methods, including `list.pop`\n",
    "- You can iterate over the elements of a list, one at a time\n",
    "- What's wrong with lists?\n",
    "    - Because we can modify them, they always have some extra space around in memory, so that the computer doesn't need to allocate new memory each time we do sometime\n",
    "    - If we want to search for a value in a list, we need to iterate over it, one element at a time (this can be slow, if we have a big list)\n",
    "\n",
    "(Both lists and tuples are ordered -- whatever order you create values, the elements will remain in that order.)\n",
    "\n",
    "The first problem is solved, to some degree, by *tuples*.\n",
    "- Tuples are like lists, but they are *immutable*, they cannot be changed\n",
    "- As a result, they have no extra memory -- they are as compact and efficient as something can be in Python\n",
    "- As a result, tuples are often used in Python to represent a collection of data\n",
    "    - A person, who has a name, birthdate, and height -- three different types of values, appropriate for a tuple\n",
    "    - A database record, which has several fields of different types\n",
    "- Even if you won't personally use tuples much, because they are so efficient, Python uses them a *lot* behind the scenes.\n",
    "\n",
    "The second problem (of searching) is solved, in no small part by dictionaries.\n",
    "\n"
   ]
  },
  {
   "cell_type": "markdown",
   "metadata": {},
   "source": [
    "# Lists vs. tuples\n",
    "\n",
    "It's true that lists are mutable and tuples are immutable.  You can never change the length or values in a tuple. You can always change the values and length of a list.\n",
    "\n",
    "HOWEVER, you don't choose between a list and tuple based on whether you plan to change the values. Rather, you choose whether to use a list or tuple based on what you're storing inside of it:\n",
    "\n",
    "- If all of the elements are of the same type (integer, string, etc.), then use a list.\n",
    "- If the elements are of different types, then use a tuple.\n",
    "\n",
    "We don't choose tuples because they're safer, or cannot be changed."
   ]
  },
  {
   "cell_type": "markdown",
   "metadata": {},
   "source": [
    "# What is a dictionary?\n",
    "\n",
    "They aren't unique to Python. However, other languages call them other things:\n",
    "\n",
    "- Hashes\n",
    "- Hashmaps\n",
    "- Hash tables\n",
    "- Maps\n",
    "- Associative arrays\n",
    "- Key-value stores\n",
    "- Name-value stores\n",
    "\n",
    "Think of a list in which the indexes can be *anything* at all. That is, we won't use 0, 1, 2, 3, etc., but we can use integers (whatever we want) or strings (whatever we want).\n",
    "\n",
    "Suddenly, we aren't asking for the letter at index 5. Rather, we're asking for the number at index `height`. We can determine what the indexes are, although we call it a \"key\" in the world of dictionaries.\n",
    "\n"
   ]
  }
 ],
 "metadata": {
  "kernelspec": {
   "display_name": "Python 3 (ipykernel)",
   "language": "python",
   "name": "python3"
  },
  "language_info": {
   "codemirror_mode": {
    "name": "ipython",
    "version": 3
   },
   "file_extension": ".py",
   "mimetype": "text/x-python",
   "name": "python",
   "nbconvert_exporter": "python",
   "pygments_lexer": "ipython3",
   "version": "3.13.2"
  }
 },
 "nbformat": 4,
 "nbformat_minor": 4
}
