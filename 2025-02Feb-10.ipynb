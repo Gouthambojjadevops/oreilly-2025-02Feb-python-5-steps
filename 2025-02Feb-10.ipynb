{
 "cells": [
  {
   "cell_type": "markdown",
   "metadata": {},
   "source": [
    "# Agenda\n",
    "\n",
    "1. Python fundamentals\n",
    "    - What are values?\n",
    "    - Storing values in variables with assignment\n",
    "    - Operators that we can use on those values\n",
    "    - Displaying with `print` and getting input from the user with `input`\n",
    "    - Comparisons and conditions with `if`/`else`\n",
    "    - Numbers (`int` and `float`)\n",
    "    - Text (`str`)\n",
    "    - A little bit about methods\n",
    "2. Loops, lists, and tuples\n",
    "    - Loops (`for` and `while`)\n",
    "    - Lists (another data type)\n",
    "        - Contrasting lists with strings\n",
    "        - List methods\n",
    "        - Lists are mutable, and what that means\n",
    "    - Turning strings into lists and back\n",
    "        - `str.split` -- turns a string into a list\n",
    "        - `str.join` -- turns a list into a string\n",
    "    - Tuples and tuple unpacking\n",
    "3. Dictionaries and files\n",
    "    - What are dicts? How do we use them?\n",
    "    - Reading from (text) files\n",
    "    - A little writing to text files\n",
    "4. Functions\n",
    "    - What are functions?\n",
    "    - Defining them\n",
    "    - Arguments and parameters\n",
    "    - Local vs. global variables\n",
    "5. Modules and packages\n",
    "    - Using modules in Python with `import`\n",
    "    - The Python standard library\n",
    "    - Downloading and using third-party packages from PyPI with `pip`\n",
    "    - Security implications\n",
    "    - What next?"
   ]
  },
  {
   "cell_type": "markdown",
   "metadata": {},
   "source": [
    "# What is a programming language?\n",
    "\n",
    "Back in the early days of computers, if you had a problem to solve, you created a computer to solve it. If you had another problem to solve, you created a new, separate computer to solve it.\n",
    "\n",
    "Pretty soon, it became clear that we should have a general-purpose computer that we can reconfigure and change to solve many different problems. The way that we would tell this computer what to do was with binary digits (bits), 1s and 0s.\n",
    "\n",
    "The good news? This worked!\n",
    "\n",
    "The bad news? It was very hard to write programs in this way.\n",
    "\n",
    "Pretty soon after that, people created *programming languages*. The idea is that we write our instructions in something that looks like English, but is translated into 1s and 0s for the computer's benefit.\n",
    "\n",
    "Python is one of hundreds of thousands of different programming languages. Each has its own advantages and disadvantages. \n",
    "\n",
    "- Python is not very fast to execute, relative to other languages\n",
    "- But Python is *very* fast to write, read (understand), and debug/maintain.\n",
    "\n",
    "Python is a great language for an age in which computers are cheap and people are expensive.\n",
    "\n",
    "- C is a very fast-to-execute language, but very complex and hard for most people, because it is \"low level,\" working much like the computer things/acts.\n",
    "- Java is higher level than C and also executes quickly, but still requires you keep track of more things than Python.\n",
    "\n",
    "# Where is Python used?\n",
    "\n",
    "- Top language for data science and machine learning\n",
    "- Analyzing data\n",
    "- Web applications\n",
    "- Automated testing\n",
    "- Devops and server configuration\n",
    "- APIs\n",
    "- Education\n",
    "\n",
    "Python is not used where speed is of the essence -- writing operating systems. Also, it's very weak in mobile applications now.\n",
    "\n",
    "Python is also an *open-source* language, which means that is not owned by any corporation. It's owned by a non-profit (the Python Software Foundation) which ensures that the development is all done by the community."
   ]
  },
  {
   "cell_type": "markdown",
   "metadata": {},
   "source": [
    "# Jupyter and coding\n",
    "\n",
    "If you're going to write Python code, you can (and this is the norm) create a text file with a `.py` suffix containing Python code, and then run it. However, this means installing Python and an editor (two typical ones are VSCode and PyCharm), and then executing from inside of there.\n",
    "\n",
    "The O'Reilly site has some videos I made telling you how to install Python and get VSCode working.\n",
    "\n",
    "However, I like to use Jupyter, which gives the illusion of running Python in your browser. The code is really running on a server somewhere (in this case, on my computer), but shows its results in the browser.\n",
    "\n",
    "*WARNING*: Don't use JupyterLite for this class! That is a version of Jupyter that runs 100% in the browser, no server needed. The problem is that one thing works differently -- getting input from the user. \n",
    "\n",
    "If you don't want to install Jupyter or use a Python editor, you can use Google Colab, which is a bit old, clunky, and slow -- but it more than does the job you need."
   ]
  },
  {
   "cell_type": "code",
   "execution_count": null,
   "metadata": {},
   "outputs": [],
   "source": []
  },
  {
   "cell_type": "code",
   "execution_count": null,
   "metadata": {},
   "outputs": [],
   "source": []
  },
  {
   "cell_type": "markdown",
   "metadata": {},
   "source": [
    "# Five-minute intro to Jupyter\n",
    "\n",
    "When I type into Jupyter, I'm typing into a \"cell.\" Each notebook contains a number of cells.\n",
    "\n",
    "But actually, when I type, I might be in one of two different *modes*:\n",
    "\n",
    "- Edit mode: Typing goes into the cell. You can enter edit mode by clicking inside of the cell or pressing `ENTER`. Right now, I'm in edit mode.\n",
    "- Command mode: Typing tells Jupyter what you want to do, giving it commands. You can enter command mode by clicking to the left of the cell or pressing `ESC`.\n",
    "\n",
    "When you are done in a cell, you can finalize/execute it by pressing `SHIFT`+`ENTER`.\n",
    "\n",
    "### Commands you can use in command mode\n",
    "\n",
    "- `c` -- copies the current cell\n",
    "- `x` -- cuts the current cell\n",
    "- `v` -- pastes the most recently cut/copied cell\n",
    "- `a` -- create a new cell *ABOVE* the current one\n",
    "- `b` -- create a new cell *BELOW* the current one\n",
    "- `m` -- tell the cell to be in Markdown (documentation) mode\n",
    "- `y` -- tell the cell to be in Python (coding) mode\n",
    "\n",
    "In Markdown (documentation) mode, you can use backticks (``) to indicate that something should be monospaced in computer font."
   ]
  },
  {
   "cell_type": "code",
   "execution_count": 1,
   "metadata": {},
   "outputs": [
    {
     "name": "stdout",
     "output_type": "stream",
     "text": [
      "Hello, world!\n"
     ]
    }
   ],
   "source": [
    "# Let's write some Python code!\n",
    "# This cell is in Python mode\n",
    "# These lines starting with # are all comments; Python ignores them completely! They are for our use\n",
    "\n",
    "# print is a function -- it's a verb in Python\n",
    "# we execute it by using () after the name\n",
    "# we can put text inside of the (), and that will then be printed\n",
    "# You can use either '' or \"\" around text -- they are seen as precisely the same thing in Python\n",
    "\n",
    "# finally, notice that at the end of the line, we don't need ; or any other thing -- Python knows that the end of a line\n",
    "# is the end of our command\n",
    "\n",
    "print('Hello, world!')"
   ]
  },
  {
   "cell_type": "code",
   "execution_count": 2,
   "metadata": {},
   "outputs": [
    {
     "name": "stdout",
     "output_type": "stream",
     "text": [
      "10\n"
     ]
    }
   ],
   "source": [
    "# we can use numbers, too!\n",
    "\n",
    "print(10)"
   ]
  },
  {
   "cell_type": "code",
   "execution_count": 4,
   "metadata": {},
   "outputs": [
    {
     "name": "stdout",
     "output_type": "stream",
     "text": [
      "12\n"
     ]
    }
   ],
   "source": [
    "# I can even put in an expression, such as adding two numbers together\n",
    "\n",
    "print(5 + 7)      # first, Python calculates 5+7, and hands 12 to print as its \"argument,\" or value we give it to display"
   ]
  },
  {
   "cell_type": "code",
   "execution_count": 6,
   "metadata": {},
   "outputs": [
    {
     "name": "stdout",
     "output_type": "stream",
     "text": [
      "Hello, world!\n"
     ]
    }
   ],
   "source": [
    "# I can use + to add numbers\n",
    "# I can also use + to add text strings together\n",
    "\n",
    "print('Hello, ' + 'world' + '!')   # notice the space that I put after the ,  "
   ]
  },
  {
   "cell_type": "code",
   "execution_count": 7,
   "metadata": {},
   "outputs": [
    {
     "name": "stdout",
     "output_type": "stream",
     "text": [
      "Hello,world!\n"
     ]
    }
   ],
   "source": [
    "print('Hello,' + 'world' + '!')   "
   ]
  },
  {
   "cell_type": "markdown",
   "metadata": {},
   "source": [
    "Computers do what you tell them to do, not what you want them to do!"
   ]
  },
  {
   "cell_type": "markdown",
   "metadata": {},
   "source": [
    "# Assignment and variables\n",
    "\n",
    "Clearly, I don't want to have to write each value, every time I want to use it. I would like to store a value somewhere with a good name, and then retrieve it.\n",
    "\n",
    "We can store any value we want in a *variable*, which is a name that refers to a value.\n",
    "\n",
    "We do this with the *assignment operator*, which is `=`.\n",
    "\n",
    "**THIS IS NOT THE SAME AS `=` IN MATHEMATICS!**\n",
    "\n",
    "When we use `=`, we are telling Python:\n",
    "\n",
    "- Get the value from the right side\n",
    "- Assign it to the variable on the left side"
   ]
  },
  {
   "cell_type": "code",
   "execution_count": null,
   "metadata": {},
   "outputs": [],
   "source": []
  }
 ],
 "metadata": {
  "kernelspec": {
   "display_name": "Python 3 (ipykernel)",
   "language": "python",
   "name": "python3"
  },
  "language_info": {
   "codemirror_mode": {
    "name": "ipython",
    "version": 3
   },
   "file_extension": ".py",
   "mimetype": "text/x-python",
   "name": "python",
   "nbconvert_exporter": "python",
   "pygments_lexer": "ipython3",
   "version": "3.13.1"
  }
 },
 "nbformat": 4,
 "nbformat_minor": 4
}
