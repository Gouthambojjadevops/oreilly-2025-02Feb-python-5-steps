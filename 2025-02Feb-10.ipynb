{
 "cells": [
  {
   "cell_type": "markdown",
   "metadata": {},
   "source": [
    "# Agenda\n",
    "\n",
    "1. Python fundamentals\n",
    "    - What are values?\n",
    "    - Storing values in variables with assignment\n",
    "    - Operators that we can use on those values\n",
    "    - Displaying with `print` and getting input from the user with `input`\n",
    "    - Comparisons and conditions with `if`/`else`\n",
    "    - Numbers (`int` and `float`)\n",
    "    - Text (`str`)\n",
    "    - A little bit about methods\n",
    "2. Loops, lists, and tuples\n",
    "    - Loops (`for` and `while`)\n",
    "    - Lists (another data type)\n",
    "        - Contrasting lists with strings\n",
    "        - List methods\n",
    "        - Lists are mutable, and what that means\n",
    "    - Turning strings into lists and back\n",
    "        - `str.split` -- turns a string into a list\n",
    "        - `str.join` -- turns a list into a string\n",
    "    - Tuples and tuple unpacking\n",
    "3. Dictionaries and files\n",
    "    - What are dicts? How do we use them?\n",
    "    - Reading from (text) files\n",
    "    - A little writing to text files\n",
    "4. Functions\n",
    "    - What are functions?\n",
    "    - Defining them\n",
    "    - Arguments and parameters\n",
    "    - Local vs. global variables\n",
    "5. "
   ]
  },
  {
   "cell_type": "code",
   "execution_count": null,
   "metadata": {},
   "outputs": [],
   "source": []
  }
 ],
 "metadata": {
  "kernelspec": {
   "display_name": "Python 3 (ipykernel)",
   "language": "python",
   "name": "python3"
  },
  "language_info": {
   "codemirror_mode": {
    "name": "ipython",
    "version": 3
   },
   "file_extension": ".py",
   "mimetype": "text/x-python",
   "name": "python",
   "nbconvert_exporter": "python",
   "pygments_lexer": "ipython3",
   "version": "3.13.1"
  }
 },
 "nbformat": 4,
 "nbformat_minor": 4
}
