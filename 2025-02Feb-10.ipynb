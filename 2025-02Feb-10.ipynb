{
 "cells": [
  {
   "cell_type": "markdown",
   "metadata": {},
   "source": [
    "# Agenda\n",
    "\n",
    "1. Python fundamentals\n",
    "    - What are values?\n",
    "    - Storing values in variables with assignment\n",
    "    - Operators that we can use on those values\n",
    "    - Displaying with `print` and getting input from the user with `input`\n",
    "    - Comparisons and conditions with `if`/`else`\n",
    "    - Numbers (`int` and `float`)\n",
    "    - Text (`str`)\n",
    "    - A little bit about methods\n",
    "2. Loops, lists, and tuples\n",
    "    - Loops (`for` and `while`)\n",
    "    - Lists (another data type)\n",
    "        - Contrasting lists with strings\n",
    "        - List methods\n",
    "        - Lists are mutable, and what that means\n",
    "    - Turning strings into lists and back\n",
    "        - `str.split` -- turns a string into a list\n",
    "        - `str.join` -- turns a list into a string\n",
    "    - Tuples and tuple unpacking\n",
    "3. Dictionaries and files\n",
    "    - What are dicts? How do we use them?\n",
    "    - Reading from (text) files\n",
    "    - A little writing to text files\n",
    "4. Functions\n",
    "    - What are functions?\n",
    "    - Defining them\n",
    "    - Arguments and parameters\n",
    "    - Local vs. global variables\n",
    "5. Modules and packages\n",
    "    - Using modules in Python with `import`\n",
    "    - The Python standard library\n",
    "    - Downloading and using third-party packages from PyPI with `pip`\n",
    "    - Security implications\n",
    "    - What next?"
   ]
  },
  {
   "cell_type": "markdown",
   "metadata": {},
   "source": [
    "# What is a programming language?\n",
    "\n",
    "Back in the early days of computers, if you had a problem to solve, you created a computer to solve it. If you had another problem to solve, you created a new, separate computer to solve it.\n",
    "\n",
    "Pretty soon, it became clear that we should have a general-purpose computer that we can reconfigure and change to solve many different problems. The way that we would tell this computer what to do was with binary digits (bits), 1s and 0s.\n",
    "\n",
    "The good news? This worked!\n",
    "\n",
    "The bad news? It was very hard to write programs in this way.\n",
    "\n",
    "Pretty soon after that, people created *programming languages*. The idea is that we write our instructions in something that looks like English, but is translated into 1s and 0s for the computer's benefit.\n",
    "\n",
    "Python is one of hundreds of thousands of different programming languages. Each has its own advantages and disadvantages. \n",
    "\n",
    "- Python is not very fast to execute, relative to other languages\n",
    "- But Python is *very* fast to write, read (understand), and debug/maintain.\n",
    "\n",
    "Python is a great language for an age in which computers are cheap and people are expensive.\n",
    "\n",
    "- C is a very fast-to-execute language, but very complex and hard for most people, because it is \"low level,\" working much like the computer things/acts.\n",
    "- Java is higher level than C and also executes quickly, but still requires you keep track of more things than Python.\n",
    "\n",
    "# Where is Python used?\n",
    "\n",
    "- Top language for data science and machine learning\n",
    "- Analyzing data\n",
    "- Web applications\n",
    "- Automated testing\n",
    "- Devops and server configuration\n",
    "- APIs\n",
    "- Education\n",
    "\n",
    "Python is not used where speed is of the essence -- writing operating systems. Also, it's very weak in mobile applications now.\n",
    "\n",
    "Python is also an *open-source* language, which means that is not owned by any corporation. It's owned by a non-profit (the Python Software Foundation) which ensures that the development is all done by the community."
   ]
  },
  {
   "cell_type": "markdown",
   "metadata": {},
   "source": [
    "# Jupyter and coding\n",
    "\n",
    "If you're going to write Python code, you can (and this is the norm) create a text file with a `.py` suffix containing Python code, and then run it. However, this means installing Python and an editor (two typical ones are VSCode and PyCharm), and then executing from inside of there.\n",
    "\n",
    "The O'Reilly site has some videos I made telling you how to install Python and get VSCode working.\n",
    "\n",
    "However, I like to use Jupyter, which gives the illusion of running Python in your browser. The code is really running on a server somewhere (in this case, on my computer), but shows its results in the browser.\n",
    "\n",
    "*WARNING*: Don't use JupyterLite for this class! That is a version of Jupyter that runs 100% in the browser, no server needed. The problem is that one thing works differently -- getting input from the user. \n",
    "\n",
    "If you don't want to install Jupyter or use a Python editor, you can use Google Colab, which is a bit old, clunky, and slow -- but it more than does the job you need."
   ]
  },
  {
   "cell_type": "code",
   "execution_count": null,
   "metadata": {},
   "outputs": [],
   "source": []
  },
  {
   "cell_type": "code",
   "execution_count": null,
   "metadata": {},
   "outputs": [],
   "source": []
  },
  {
   "cell_type": "markdown",
   "metadata": {},
   "source": [
    "# Five-minute intro to Jupyter\n",
    "\n",
    "When I type into Jupyter, I'm typing into a \"cell.\" Each notebook contains a number of cells.\n",
    "\n",
    "But actually, when I type, I might be in one of two different *modes*:\n",
    "\n",
    "- Edit mode: Typing goes into the cell. You can enter edit mode by clicking inside of the cell or pressing `ENTER`. Right now, I'm in edit mode.\n",
    "- Command mode: Typing tells Jupyter what you want to do, giving it commands. You can enter command mode by clicking to the left of the cell or pressing `ESC`.\n",
    "\n",
    "When you are done in a cell, you can finalize/execute it by pressing `SHIFT`+`ENTER`.\n",
    "\n",
    "### Commands you can use in command mode\n",
    "\n",
    "- `c` -- copies the current cell\n",
    "- `x` -- cuts the current cell\n",
    "- `v` -- pastes the most recently cut/copied cell\n",
    "- `a` -- create a new cell *ABOVE* the current one\n",
    "- `b` -- create a new cell *BELOW* the current one\n",
    "- `m` -- tell the cell to be in Markdown (documentation) mode\n",
    "- `y` -- tell the cell to be in Python (coding) mode\n",
    "\n",
    "In Markdown (documentation) mode, you can use backticks (``) to indicate that something should be monospaced in computer font."
   ]
  },
  {
   "cell_type": "code",
   "execution_count": 1,
   "metadata": {},
   "outputs": [
    {
     "name": "stdout",
     "output_type": "stream",
     "text": [
      "Hello, world!\n"
     ]
    }
   ],
   "source": [
    "# Let's write some Python code!\n",
    "# This cell is in Python mode\n",
    "# These lines starting with # are all comments; Python ignores them completely! They are for our use\n",
    "\n",
    "# print is a function -- it's a verb in Python\n",
    "# we execute it by using () after the name\n",
    "# we can put text inside of the (), and that will then be printed\n",
    "# You can use either '' or \"\" around text -- they are seen as precisely the same thing in Python\n",
    "\n",
    "# finally, notice that at the end of the line, we don't need ; or any other thing -- Python knows that the end of a line\n",
    "# is the end of our command\n",
    "\n",
    "print('Hello, world!')"
   ]
  },
  {
   "cell_type": "code",
   "execution_count": 2,
   "metadata": {},
   "outputs": [
    {
     "name": "stdout",
     "output_type": "stream",
     "text": [
      "10\n"
     ]
    }
   ],
   "source": [
    "# we can use numbers, too!\n",
    "\n",
    "print(10)"
   ]
  },
  {
   "cell_type": "code",
   "execution_count": 4,
   "metadata": {},
   "outputs": [
    {
     "name": "stdout",
     "output_type": "stream",
     "text": [
      "12\n"
     ]
    }
   ],
   "source": [
    "# I can even put in an expression, such as adding two numbers together\n",
    "\n",
    "print(5 + 7)      # first, Python calculates 5+7, and hands 12 to print as its \"argument,\" or value we give it to display"
   ]
  },
  {
   "cell_type": "code",
   "execution_count": 6,
   "metadata": {},
   "outputs": [
    {
     "name": "stdout",
     "output_type": "stream",
     "text": [
      "Hello, world!\n"
     ]
    }
   ],
   "source": [
    "# I can use + to add numbers\n",
    "# I can also use + to add text strings together\n",
    "\n",
    "print('Hello, ' + 'world' + '!')   # notice the space that I put after the ,  "
   ]
  },
  {
   "cell_type": "code",
   "execution_count": 7,
   "metadata": {},
   "outputs": [
    {
     "name": "stdout",
     "output_type": "stream",
     "text": [
      "Hello,world!\n"
     ]
    }
   ],
   "source": [
    "print('Hello,' + 'world' + '!')   "
   ]
  },
  {
   "cell_type": "markdown",
   "metadata": {},
   "source": [
    "Computers do what you tell them to do, not what you want them to do!"
   ]
  },
  {
   "cell_type": "markdown",
   "metadata": {},
   "source": [
    "# Assignment and variables\n",
    "\n",
    "Clearly, I don't want to have to write each value, every time I want to use it. I would like to store a value somewhere with a good name, and then retrieve it.\n",
    "\n",
    "We can store any value we want in a *variable*, which is a name that refers to a value.\n",
    "\n",
    "We do this with the *assignment operator*, which is `=`.\n",
    "\n",
    "**THIS IS NOT THE SAME AS `=` IN MATHEMATICS!**\n",
    "\n",
    "When we use `=`, we are telling Python:\n",
    "\n",
    "- Get the value from the right side\n",
    "- Assign it to the variable on the left side"
   ]
  },
  {
   "cell_type": "code",
   "execution_count": 8,
   "metadata": {},
   "outputs": [],
   "source": [
    "x = 10     # from this point on, the variable x refers to the value 10, and we can use it instead of 10"
   ]
  },
  {
   "cell_type": "code",
   "execution_count": 9,
   "metadata": {},
   "outputs": [
    {
     "name": "stdout",
     "output_type": "stream",
     "text": [
      "15\n"
     ]
    }
   ],
   "source": [
    "print(x + 5)   "
   ]
  },
  {
   "cell_type": "markdown",
   "metadata": {},
   "source": [
    "A few things to notice about variables:\n",
    "\n",
    "1. We don't need to declare them in advance. In fact, Python doesn't provide us with a way to do that! The first time you assign to a variable, it is created. There is no way to say that a variable only contains numbers, text, or anything else.\n",
    "2. Variable names can contain nearly any combination of letters, digits, and `_`:\n",
    "    - Capital and lowercase letters are totally different\n",
    "    - We normally only use lowercase letters\n",
    "    - You cannot start a variable name with a digit\n",
    "    - Don't start or end a variable name with `_`, unless you really know what you're doing\n",
    "    - Variable names are for *YOU*, not for Python. Use names that make sense!"
   ]
  },
  {
   "cell_type": "code",
   "execution_count": 10,
   "metadata": {},
   "outputs": [
    {
     "name": "stdout",
     "output_type": "stream",
     "text": [
      "30\n"
     ]
    }
   ],
   "source": [
    "x = 10\n",
    "y = 20\n",
    "\n",
    "print(x + y)"
   ]
  },
  {
   "cell_type": "code",
   "execution_count": 11,
   "metadata": {},
   "outputs": [
    {
     "name": "stdout",
     "output_type": "stream",
     "text": [
      "Hello, Reuven\n"
     ]
    }
   ],
   "source": [
    "name = 'Reuven'\n",
    "\n",
    "print('Hello, ' + name)"
   ]
  },
  {
   "cell_type": "code",
   "execution_count": 12,
   "metadata": {},
   "outputs": [
    {
     "ename": "TypeError",
     "evalue": "unsupported operand type(s) for +: 'int' and 'str'",
     "output_type": "error",
     "traceback": [
      "\u001b[0;31m---------------------------------------------------------------------------\u001b[0m",
      "\u001b[0;31mTypeError\u001b[0m                                 Traceback (most recent call last)",
      "Cell \u001b[0;32mIn[12], line 6\u001b[0m\n\u001b[1;32m      3\u001b[0m x \u001b[38;5;241m=\u001b[39m \u001b[38;5;241m10\u001b[39m\n\u001b[1;32m      4\u001b[0m y \u001b[38;5;241m=\u001b[39m \u001b[38;5;124m'\u001b[39m\u001b[38;5;124m20\u001b[39m\u001b[38;5;124m'\u001b[39m    \u001b[38;5;66;03m# notice! This is not a number! This is text that happens to contain digits!\u001b[39;00m\n\u001b[0;32m----> 6\u001b[0m \u001b[38;5;28mprint\u001b[39m(\u001b[43mx\u001b[49m\u001b[43m \u001b[49m\u001b[38;5;241;43m+\u001b[39;49m\u001b[43m \u001b[49m\u001b[43my\u001b[49m)  \u001b[38;5;66;03m# what will Python do here?  Will it give me 1020 (treating them both as text) or 30 (treating them both as integers)?\u001b[39;00m\n",
      "\u001b[0;31mTypeError\u001b[0m: unsupported operand type(s) for +: 'int' and 'str'"
     ]
    }
   ],
   "source": [
    "# here is where things get weird/hard\n",
    "\n",
    "x = 10\n",
    "y = '20'    # notice! This is not a number! This is text that happens to contain digits!\n",
    "\n",
    "print(x + y)  # what will Python do here?  Will it give me 1020 (treating them both as text) or 30 (treating them both as integers)?"
   ]
  },
  {
   "cell_type": "markdown",
   "metadata": {},
   "source": [
    "# Special Jupyter feature\n",
    "\n",
    "Normally, Python will only display what you give it in `print`. If you didn't `print`, you won't see anything.\n",
    "\n",
    "BUT if you're in Jupyter, and if the final line of your cell is an *expression* that gives us a value back, then it will displayed."
   ]
  },
  {
   "cell_type": "code",
   "execution_count": 13,
   "metadata": {},
   "outputs": [
    {
     "data": {
      "text/plain": [
       "60"
      ]
     },
     "execution_count": 13,
     "metadata": {},
     "output_type": "execute_result"
    }
   ],
   "source": [
    "# these are three expressions\n",
    "\n",
    "10 + 10\n",
    "20 + 20 \n",
    "30 + 30"
   ]
  },
  {
   "cell_type": "code",
   "execution_count": 14,
   "metadata": {},
   "outputs": [
    {
     "data": {
      "text/plain": [
       "10"
      ]
     },
     "execution_count": 14,
     "metadata": {},
     "output_type": "execute_result"
    }
   ],
   "source": [
    "# now we can just see the value of a variable by typing its name\n",
    "\n",
    "x"
   ]
  },
  {
   "cell_type": "code",
   "execution_count": 15,
   "metadata": {},
   "outputs": [
    {
     "data": {
      "text/plain": [
       "'20'"
      ]
     },
     "execution_count": 15,
     "metadata": {},
     "output_type": "execute_result"
    }
   ],
   "source": [
    "y"
   ]
  },
  {
   "cell_type": "markdown",
   "metadata": {},
   "source": [
    "# Exercise: Simple printing\n",
    "\n",
    "1. Assign two numbers to the variables `x` and `y`. Assign their sum to a third variable, `z`. Print the value of `z`.\n",
    "2. Assign your name to the variable `name`. Print a nice greeting to yourself.\n",
    "\n",
    "I'll activate the \"pulse check\" feature:\n",
    "\n",
    "- If you finish, click on the thumbs up\n",
    "- If you are stuck or doesn't work, click on the thumbs down **AND** send me your code in the Q&A"
   ]
  },
  {
   "cell_type": "code",
   "execution_count": 19,
   "metadata": {},
   "outputs": [
    {
     "name": "stdout",
     "output_type": "stream",
     "text": [
      "50\n"
     ]
    }
   ],
   "source": [
    "# 1. Assign two numbers to the variables `x` and `y`. Assign their sum to a third variable, `z`. Print the value of `z`.\n",
    "\n",
    "x = 12\n",
    "y = 38\n",
    "\n",
    "z = x + y\n",
    "\n",
    "print(z)"
   ]
  },
  {
   "cell_type": "code",
   "execution_count": 20,
   "metadata": {},
   "outputs": [
    {
     "name": "stdout",
     "output_type": "stream",
     "text": [
      "Hello, Reuven.\n"
     ]
    }
   ],
   "source": [
    "# 2. Assign your name to the variable `name`. Print a nice greeting to yourself.\n",
    "\n",
    "name = 'Reuven'     # string on the right, and variable on the left\n",
    "\n",
    "print('Hello, ' + name + '.')"
   ]
  },
  {
   "cell_type": "code",
   "execution_count": 21,
   "metadata": {},
   "outputs": [
    {
     "ename": "NameError",
     "evalue": "name 'Reuven' is not defined",
     "output_type": "error",
     "traceback": [
      "\u001b[0;31m---------------------------------------------------------------------------\u001b[0m",
      "\u001b[0;31mNameError\u001b[0m                                 Traceback (most recent call last)",
      "Cell \u001b[0;32mIn[21], line 3\u001b[0m\n\u001b[1;32m      1\u001b[0m \u001b[38;5;66;03m# I got this sort of thing in the Q&A\u001b[39;00m\n\u001b[0;32m----> 3\u001b[0m name \u001b[38;5;241m=\u001b[39m \u001b[43mReuven\u001b[49m   \u001b[38;5;66;03m# notice, no quotes!\u001b[39;00m\n\u001b[1;32m      5\u001b[0m \u001b[38;5;28mprint\u001b[39m(\u001b[38;5;124m'\u001b[39m\u001b[38;5;124mHello, \u001b[39m\u001b[38;5;124m'\u001b[39m \u001b[38;5;241m+\u001b[39m name \u001b[38;5;241m+\u001b[39m \u001b[38;5;124m'\u001b[39m\u001b[38;5;124m.\u001b[39m\u001b[38;5;124m'\u001b[39m)\n",
      "\u001b[0;31mNameError\u001b[0m: name 'Reuven' is not defined"
     ]
    }
   ],
   "source": [
    "# I got this sort of thing in the Q&A\n",
    "\n",
    "name = Reuven   # notice, no quotes -- here, Python thinks that Reuven is a variable, and it should assign that value to name!\n",
    "\n",
    "print('Hello, ' + name + '.')"
   ]
  },
  {
   "cell_type": "markdown",
   "metadata": {},
   "source": [
    "# Variables vs. text strings\n",
    "\n",
    "- If you have a name with quotes (either `''` or `\"\"`) around it, that is taken as as literal text string, and Python will treat it as a text value.\n",
    "- If you have a name without quotes, that is considered a variable, and Python will look for that name and retrieve its value. If the name wasn't defined, then you'll get an error."
   ]
  },
  {
   "cell_type": "code",
   "execution_count": 22,
   "metadata": {},
   "outputs": [
    {
     "name": "stdout",
     "output_type": "stream",
     "text": [
      "25\n"
     ]
    }
   ],
   "source": [
    "# MK\n",
    "\n",
    "#Exercice 1 :\n",
    "x = 5\n",
    "y = 20\n",
    "z = x + y\n",
    "print(z)"
   ]
  },
  {
   "cell_type": "code",
   "execution_count": 24,
   "metadata": {},
   "outputs": [
    {
     "name": "stdout",
     "output_type": "stream",
     "text": [
      "Welcome Mebrouk to the best course in the wolrd\n"
     ]
    }
   ],
   "source": [
    "#Greeting my self\n",
    "\n",
    "name = \"Mebrouk\"\n",
    "print(\"Welcome \" + name + \" to the best course in the wolrd\")"
   ]
  },
  {
   "cell_type": "markdown",
   "metadata": {},
   "source": [
    "# Next up\n",
    "\n",
    "1. Getting input from the user with `input`\n",
    "2. Printing f-strings\n",
    "3. Comparisons with `==`\n",
    "4. Making decisions with `if`"
   ]
  },
  {
   "cell_type": "markdown",
   "metadata": {},
   "source": [
    "If we have to hard-code all of our values in a program, our program is going to be very boring.\n",
    "\n",
    "We really want to get inputs from the user (and from other sources, such as the network and from files).\n",
    "\n",
    "We can use the function `input` to get input from the user:\n",
    "\n",
    "- We invoke `input` with `()`\n",
    "- Inside of the `()`, we put a text string -- the question/prompt/text that we want to show the user, to ask for input\n",
    "- Whatever the user types is then returned by `input`\n",
    "- Typically/traditionally, `input` is always on the right side of assignment\n",
    "- In other words, whatever the user typed get assigned to a variable, and it contains a text value."
   ]
  },
  {
   "cell_type": "code",
   "execution_count": 28,
   "metadata": {},
   "outputs": [
    {
     "name": "stdin",
     "output_type": "stream",
     "text": [
      "Enter your name:  12345\n"
     ]
    },
    {
     "name": "stdout",
     "output_type": "stream",
     "text": [
      "Hello, 12345. Have a nice day!\n"
     ]
    }
   ],
   "source": [
    "# when I run this code, input will halt the program, and wait for me (or the user) to type something\n",
    "# after that happens, the variable \"name\" will contain a text string, whatever the user typed\n",
    "# I can use that text string in whatever I want.\n",
    "\n",
    "name = input('Enter your name: ')\n",
    "print('Hello, ' + name + '. Have a nice day!')"
   ]
  },
  {
   "cell_type": "code",
   "execution_count": 29,
   "metadata": {},
   "outputs": [
    {
     "name": "stdin",
     "output_type": "stream",
     "text": [
      "Enter your favorite number:  15\n"
     ]
    }
   ],
   "source": [
    "x = input('Enter your favorite number: ')"
   ]
  },
  {
   "cell_type": "code",
   "execution_count": 30,
   "metadata": {},
   "outputs": [
    {
     "ename": "TypeError",
     "evalue": "can only concatenate str (not \"int\") to str",
     "output_type": "error",
     "traceback": [
      "\u001b[0;31m---------------------------------------------------------------------------\u001b[0m",
      "\u001b[0;31mTypeError\u001b[0m                                 Traceback (most recent call last)",
      "Cell \u001b[0;32mIn[30], line 1\u001b[0m\n\u001b[0;32m----> 1\u001b[0m \u001b[38;5;28mprint\u001b[39m(\u001b[43mx\u001b[49m\u001b[43m \u001b[49m\u001b[38;5;241;43m+\u001b[39;49m\u001b[43m \u001b[49m\u001b[38;5;241;43m10\u001b[39;49m)  \u001b[38;5;66;03m# what is the user's favorite number + 10?\u001b[39;00m\n",
      "\u001b[0;31mTypeError\u001b[0m: can only concatenate str (not \"int\") to str"
     ]
    }
   ],
   "source": [
    "print(x + 10)  # what is the user's favorite number + 10?"
   ]
  },
  {
   "cell_type": "code",
   "execution_count": 31,
   "metadata": {},
   "outputs": [
    {
     "data": {
      "text/plain": [
       "'1515'"
      ]
     },
     "execution_count": 31,
     "metadata": {},
     "output_type": "execute_result"
    }
   ],
   "source": [
    "x + x   # what happens if I do this?"
   ]
  },
  {
   "cell_type": "markdown",
   "metadata": {},
   "source": [
    "# f-strings \n",
    "\n",
    "We'll talk more later about text strings and how to create/use them. *BUT* we already can benefit from f-strings.\n",
    "\n",
    "- We create a regular string\n",
    "- Before the opening quote, put the letter `f`\n",
    "- Inside of the string, if we have `{}`, they can contain *any* Python value, variable, or expression\n",
    "- If needed, that value will be turned into a text string\n",
    "- This allows us to put variables inside of a text string without using `+` (which is annoying and ugly)"
   ]
  },
  {
   "cell_type": "code",
   "execution_count": 32,
   "metadata": {},
   "outputs": [
    {
     "name": "stdout",
     "output_type": "stream",
     "text": [
      "Hello, Reuven. Did you know that x = 10 and y = 20?\n"
     ]
    }
   ],
   "source": [
    "x = 10\n",
    "y = 20\n",
    "name = 'Reuven'\n",
    "\n",
    "print(f'Hello, {name}. Did you know that x = {x} and y = {y}?')"
   ]
  },
  {
   "cell_type": "markdown",
   "metadata": {},
   "source": [
    "# Exercise: Greet yourself\n",
    "\n",
    "1. Ask the user to enter their name, and assign to the variable `name`.\n",
    "2. Ask the user to enter their city, and assign to the variable `city`.\n",
    "3. Print a nice greeting to the user, including both of these things."
   ]
  },
  {
   "cell_type": "code",
   "execution_count": 34,
   "metadata": {},
   "outputs": [
    {
     "name": "stdin",
     "output_type": "stream",
     "text": [
      "Enter your name:  asdfasfadfasfdasdfdasfasfas\n",
      "Enter your city:  ljl;aksdjfakljdfaskl;djf;askfjaslfjk;a\n"
     ]
    },
    {
     "name": "stdout",
     "output_type": "stream",
     "text": [
      "Hello, asdfasfadfasfdasdfdasfasfas from ljl;aksdjfakljdfaskl;djf;askfjaslfjk;a!\n"
     ]
    }
   ],
   "source": [
    "name = input('Enter your name: ')\n",
    "city = input('Enter your city: ')\n",
    "\n",
    "print(f'Hello, {name} from {city}!')"
   ]
  },
  {
   "cell_type": "markdown",
   "metadata": {},
   "source": [
    "# Quotation marks and strings\n",
    "\n",
    "- If our text string contains a single quote (`'`), then we can/should use double quotes (`\"\"`) around the string.\n",
    "- If our text string contains a double quote (`\"`), then we can/should use single quotes (`''`) around the string.\n",
    "\n",
    "This is because Python needs to know whether the quote is ending the string or is a character in the string.\n",
    "\n",
    "Another way to do this is to put a `\\` before the quote. That's known as \"escaping,\" and means: Don't treat this quote character as the end of the string. Treat it as a character in the string."
   ]
  },
  {
   "cell_type": "code",
   "execution_count": 35,
   "metadata": {},
   "outputs": [
    {
     "data": {
      "text/plain": [
       "\"Modi'in\""
      ]
     },
     "execution_count": 35,
     "metadata": {},
     "output_type": "execute_result"
    }
   ],
   "source": [
    "city = \"Modi'in\"    # use double quotes\n",
    "city"
   ]
  },
  {
   "cell_type": "code",
   "execution_count": 36,
   "metadata": {
    "scrolled": true
   },
   "outputs": [
    {
     "ename": "SyntaxError",
     "evalue": "unterminated string literal (detected at line 1) (2596757061.py, line 1)",
     "output_type": "error",
     "traceback": [
      "\u001b[0;36m  Cell \u001b[0;32mIn[36], line 1\u001b[0;36m\u001b[0m\n\u001b[0;31m    city = 'Modi'in'   # what if I have the quote in the middle?\u001b[0m\n\u001b[0m                   ^\u001b[0m\n\u001b[0;31mSyntaxError\u001b[0m\u001b[0;31m:\u001b[0m unterminated string literal (detected at line 1)\n"
     ]
    }
   ],
   "source": [
    "city = 'Modi'in'   # what if I have the quote in the middle? \n",
    "city"
   ]
  },
  {
   "cell_type": "code",
   "execution_count": 42,
   "metadata": {},
   "outputs": [
    {
     "data": {
      "text/plain": [
       "\"Modi'in\""
      ]
     },
     "execution_count": 42,
     "metadata": {},
     "output_type": "execute_result"
    }
   ],
   "source": [
    "city = 'Modi\\'in'   # escape the ' in the middle of the city name\n",
    "city   # here, Jupyter is doing us a favor and showing us the value with any quotes/internals -- this is for programmers!"
   ]
  },
  {
   "cell_type": "code",
   "execution_count": 41,
   "metadata": {},
   "outputs": [
    {
     "name": "stdout",
     "output_type": "stream",
     "text": [
      "Modi'in\n"
     ]
    }
   ],
   "source": [
    "print(city)   # here, we see it for users -- without quotes"
   ]
  },
  {
   "cell_type": "markdown",
   "metadata": {},
   "source": [
    "# Comparison operators\n",
    "\n",
    "So far, we've seen one operator, `+`. There are plenty of other operators in Python. For example, the `==` operator tells us whether two values are the same.\n",
    "\n",
    "# NOTE the difference between `=` and `==`\n",
    "\n",
    "- `=` is the assignment operator. It assigns the value on the right to the variable on the left.\n",
    "- `==` is the equality operator. It checks if the values on the left and right are the same. It returns `True` if so, and `False` if not.\n",
    "\n",
    "I can compare any two values in Python that I want with `==`.\n",
    "\n",
    "In fact, there are a bunch of comparison operators that I can use:\n",
    "\n",
    "- `==` -- are they equal?\n",
    "- `!=` -- are they unequal? This is the same as the mathematical ≠ sign\n",
    "- `<` -- less than\n",
    "- `<=` -- less than or equal\n",
    "- `>` -- greater than\n",
    "- `>=` -- greater than or equal\n",
    "\n",
    "All of these return either `True` or `False`, depending on the values"
   ]
  },
  {
   "cell_type": "code",
   "execution_count": 38,
   "metadata": {},
   "outputs": [
    {
     "data": {
      "text/plain": [
       "True"
      ]
     },
     "execution_count": 38,
     "metadata": {},
     "output_type": "execute_result"
    }
   ],
   "source": [
    "x = 10\n",
    "y = 10\n",
    "\n",
    "x == y"
   ]
  },
  {
   "cell_type": "code",
   "execution_count": 39,
   "metadata": {},
   "outputs": [
    {
     "data": {
      "text/plain": [
       "False"
      ]
     },
     "execution_count": 39,
     "metadata": {},
     "output_type": "execute_result"
    }
   ],
   "source": [
    "x = 10\n",
    "y = 20\n",
    "\n",
    "x == y"
   ]
  },
  {
   "cell_type": "code",
   "execution_count": 40,
   "metadata": {},
   "outputs": [
    {
     "data": {
      "text/plain": [
       "True"
      ]
     },
     "execution_count": 40,
     "metadata": {},
     "output_type": "execute_result"
    }
   ],
   "source": [
    "x < y"
   ]
  },
  {
   "cell_type": "code",
   "execution_count": 43,
   "metadata": {},
   "outputs": [
    {
     "data": {
      "text/plain": [
       "False"
      ]
     },
     "execution_count": 43,
     "metadata": {},
     "output_type": "execute_result"
    }
   ],
   "source": [
    "x = 'abc'\n",
    "y = 'abc '   # note the space\n",
    "\n",
    "x == y"
   ]
  },
  {
   "cell_type": "code",
   "execution_count": 44,
   "metadata": {},
   "outputs": [
    {
     "data": {
      "text/plain": [
       "False"
      ]
     },
     "execution_count": 44,
     "metadata": {},
     "output_type": "execute_result"
    }
   ],
   "source": [
    "x = 'abc'\n",
    "y = 'Abc'\n",
    "\n",
    "x == y  # are these the same?"
   ]
  },
  {
   "cell_type": "code",
   "execution_count": 45,
   "metadata": {},
   "outputs": [
    {
     "data": {
      "text/plain": [
       "False"
      ]
     },
     "execution_count": 45,
     "metadata": {},
     "output_type": "execute_result"
    }
   ],
   "source": [
    "x = 10    # integer\n",
    "y = '10'  # text string\n",
    "\n",
    "x == y"
   ]
  },
  {
   "cell_type": "code",
   "execution_count": 46,
   "metadata": {},
   "outputs": [
    {
     "data": {
      "text/plain": [
       "True"
      ]
     },
     "execution_count": 46,
     "metadata": {},
     "output_type": "execute_result"
    }
   ],
   "source": [
    "x = 10\n",
    "y = 20\n",
    "\n",
    "x < y"
   ]
  },
  {
   "cell_type": "code",
   "execution_count": 48,
   "metadata": {},
   "outputs": [
    {
     "data": {
      "text/plain": [
       "True"
      ]
     },
     "execution_count": 48,
     "metadata": {},
     "output_type": "execute_result"
    }
   ],
   "source": [
    "x = 'abcd'\n",
    "y = 'xyz'\n",
    "\n",
    "x < y   # does this even make sense? -- this tells us that x comes before y alphabetically!"
   ]
  },
  {
   "cell_type": "code",
   "execution_count": 49,
   "metadata": {},
   "outputs": [
    {
     "data": {
      "text/plain": [
       "True"
      ]
     },
     "execution_count": 49,
     "metadata": {},
     "output_type": "execute_result"
    }
   ],
   "source": [
    "x = 'abcd'\n",
    "y = 'dcba'\n",
    "\n",
    "x < y"
   ]
  },
  {
   "cell_type": "code",
   "execution_count": 50,
   "metadata": {},
   "outputs": [
    {
     "data": {
      "text/plain": [
       "False"
      ]
     },
     "execution_count": 50,
     "metadata": {},
     "output_type": "execute_result"
    }
   ],
   "source": [
    "x = 'abcd'\n",
    "y = 'abca'\n",
    "\n",
    "x < y"
   ]
  },
  {
   "cell_type": "markdown",
   "metadata": {},
   "source": [
    "# Making decisions\n",
    "\n",
    "A program is very boring if it always does the same thing. That's why nearly every program uses the `if` statement.\n",
    "\n",
    "`if` looks to its right, and asks: Is this a `True` value? \n",
    "\n",
    "- If so, then it executes the block immediately following\n",
    "- If not, then it executes the block for the `else`"
   ]
  },
  {
   "cell_type": "code",
   "execution_count": 54,
   "metadata": {},
   "outputs": [
    {
     "ename": "IndentationError",
     "evalue": "expected an indented block after 'if' statement on line 5 (1999547917.py, line 6)",
     "output_type": "error",
     "traceback": [
      "\u001b[0;36m  Cell \u001b[0;32mIn[54], line 6\u001b[0;36m\u001b[0m\n\u001b[0;31m    print('Hello, boss!')\u001b[0m\n\u001b[0m    ^\u001b[0m\n\u001b[0;31mIndentationError\u001b[0m\u001b[0;31m:\u001b[0m expected an indented block after 'if' statement on line 5\n"
     ]
    }
   ],
   "source": [
    "# example\n",
    "\n",
    "name = input('Enter your name: ')\n",
    "\n",
    "if name == 'Reuven':\n",
    "    print('Hello, boss!')\n",
    "    print('Welcome back; it is nice to see you again!')\n",
    "else:\n",
    "    print(f'Hello, {name}. Who are you?')"
   ]
  },
  {
   "cell_type": "markdown",
   "metadata": {},
   "source": [
    "# What's happening here?\n",
    "\n",
    "- `if` looks to its right, and sees a comparison. If the comparison returns `True`, then it'll run the block following\n",
    "- Notice that we don't need `()` around our condition.\n",
    "- Notice that at the end of the line, we have a `:`. This is mandatory!\n",
    "- After a `:` at the end of a line, we start a *block*\n",
    "    - Blocks are indented. This is mandatory, also!\n",
    "    - How much you indent is theoretically up to you... but you should use 4 spaces, like everyone else\n",
    "    - If you use a Python-aware tool like Jupyter or PyCharm or VSCode, then it'll indent automatically for you\n",
    "    - Python doesn't use `{}` to mark blocks. It uses indentation!\n",
    "    - When you're done with a block, just use \"backspace\" to delete the indentation, and keep typing\n",
    "    - A block can be as long or short as you want -- at least one line, and no maximum\n",
    "- If the `if` condition is `False`, then you can have an `else` clause\n",
    "    - No condition on `else`; it's just `else:` and a block\n",
    "    - The `else` clause is optional -- if you don't have it, and the `if` condition was `False`, then nothing happens\n",
    "    - The `else` block must also be indented.\n",
    "- If you have both `if` and `else`, then exactly one block will run -- not fewer, and not more."
   ]
  },
  {
   "cell_type": "code",
   "execution_count": null,
   "metadata": {},
   "outputs": [],
   "source": []
  }
 ],
 "metadata": {
  "kernelspec": {
   "display_name": "Python 3 (ipykernel)",
   "language": "python",
   "name": "python3"
  },
  "language_info": {
   "codemirror_mode": {
    "name": "ipython",
    "version": 3
   },
   "file_extension": ".py",
   "mimetype": "text/x-python",
   "name": "python",
   "nbconvert_exporter": "python",
   "pygments_lexer": "ipython3",
   "version": "3.13.1"
  }
 },
 "nbformat": 4,
 "nbformat_minor": 4
}
