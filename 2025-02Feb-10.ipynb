{
 "cells": [
  {
   "cell_type": "markdown",
   "metadata": {},
   "source": [
    "# Agenda\n",
    "\n",
    "1. Python fundamentals\n",
    "    - What are values?\n",
    "    - Storing values in variables with assignment\n",
    "    - Operators that we can use on those values\n",
    "    - Displaying with `print` and getting input from the user with `input`\n",
    "    - Comparisons and conditions with `if`/`else`\n",
    "    - Numbers (`int` and `float`)\n",
    "    - Text (`str`)\n",
    "    - A little bit about methods\n",
    "2. Loops, lists, and tuples\n",
    "    - Loops (`for` and `while`)\n",
    "    - Lists (another data type)\n",
    "        - Contrasting lists with strings\n",
    "        - List methods\n",
    "        - Lists are mutable, and what that means\n",
    "    - Turning strings into lists and back\n",
    "        - `str.split` -- turns a string into a list\n",
    "        - `str.join` -- turns a list into a string\n",
    "    - Tuples and tuple unpacking\n",
    "3. Dictionaries and files\n",
    "    - What are dicts? How do we use them?\n",
    "    - Reading from (text) files\n",
    "    - A little writing to text files\n",
    "4. Functions\n",
    "    - What are functions?\n",
    "    - Defining them\n",
    "    - Arguments and parameters\n",
    "    - Local vs. global variables\n",
    "5. Modules and packages\n",
    "    - Using modules in Python with `import`\n",
    "    - The Python standard library\n",
    "    - Downloading and using third-party packages from PyPI with `pip`\n",
    "    - Security implications\n",
    "    - What next?"
   ]
  },
  {
   "cell_type": "markdown",
   "metadata": {},
   "source": [
    "# What is a programming language?\n",
    "\n",
    "Back in the early days of computers, if you had a problem to solve, you created a computer to solve it. If you had another problem to solve, you created a new, separate computer to solve it.\n",
    "\n",
    "Pretty soon, it became clear that we should have a general-purpose computer that we can reconfigure and change to solve many different problems. The way that we would tell this computer what to do was with binary digits (bits), 1s and 0s.\n",
    "\n",
    "The good news? This worked!\n",
    "\n",
    "The bad news? It was very hard to write programs in this way.\n",
    "\n",
    "Pretty soon after that, people created *programming languages*. The idea is that we write our instructions in something that looks like English, but is translated into 1s and 0s for the computer's benefit.\n",
    "\n",
    "Python is one of hundreds of thousands of different programming languages. Each has its own advantages and disadvantages. \n",
    "\n",
    "- Python is not very fast to execute, relative to other languages\n",
    "- But Python is *very* fast to write, read (understand), and debug/maintain.\n",
    "\n",
    "Python is a great language for an age in which computers are cheap and people are expensive.\n",
    "\n",
    "- C is a very fast-to-execute language, but very complex and hard for most people, because it is \"low level,\" working much like the computer things/acts.\n",
    "- Java is higher level than C and also executes quickly, but still requires you keep track of more things than Python.\n",
    "\n",
    "# Where is Python used?\n",
    "\n",
    "- Top language for data science and machine learning\n",
    "- Analyzing data\n",
    "- Web applications\n",
    "- Automated testing\n",
    "- Devops and server configuration\n",
    "- APIs\n",
    "- Education\n",
    "\n",
    "Python is not used where speed is of the essence -- writing operating systems. Also, it's very weak in mobile applications now."
   ]
  },
  {
   "cell_type": "code",
   "execution_count": null,
   "metadata": {},
   "outputs": [],
   "source": []
  }
 ],
 "metadata": {
  "kernelspec": {
   "display_name": "Python 3 (ipykernel)",
   "language": "python",
   "name": "python3"
  },
  "language_info": {
   "codemirror_mode": {
    "name": "ipython",
    "version": 3
   },
   "file_extension": ".py",
   "mimetype": "text/x-python",
   "name": "python",
   "nbconvert_exporter": "python",
   "pygments_lexer": "ipython3",
   "version": "3.13.1"
  }
 },
 "nbformat": 4,
 "nbformat_minor": 4
}
