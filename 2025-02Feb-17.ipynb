{
 "cells": [
  {
   "cell_type": "markdown",
   "metadata": {},
   "source": [
    "# Agenda, day 2: Loops, lists, and tuples\n",
    "\n",
    "1. Q&A\n",
    "2. Loops\n",
    "    - `for`\n",
    "    - Looping a number of times\n",
    "    - What about the index?\n",
    "    - `break` and `continue` -- control our loops\n",
    "    - `while`\n",
    "3. Lists (another data structure)\n",
    "    - The basics\n",
    "    - How are lists similar to (and different from) strings?\n",
    "    - Lists are mutable; we can change them!\n",
    "    - List methods\n",
    "4. Converting strings to lists, and back\n",
    "    - Turning strings into lists with `str.split`\n",
    "    - Turning lists into strings with `str.join`\n",
    "5. Tuples (another data structure)\n",
    "    - How they are similar to and different from lists\n",
    "    - Why do we need tuples?\n",
    "    - Tuple unpacking\n"
   ]
  },
  {
   "cell_type": "code",
   "execution_count": 2,
   "metadata": {},
   "outputs": [
    {
     "name": "stdout",
     "output_type": "stream",
     "text": [
      "a\n",
      "b\n",
      "c\n",
      "d\n"
     ]
    }
   ],
   "source": [
    "s = 'abcd'\n",
    "\n",
    "# I want to print every character in s\n",
    "\n",
    "print(s[0])\n",
    "print(s[1])\n",
    "print(s[2])\n",
    "print(s[3])"
   ]
  },
  {
   "cell_type": "markdown",
   "metadata": {},
   "source": [
    "# DRY -- don't repeat yourself!\n",
    "\n",
    "The \"DRY rule\" means: If you have code that repeats itself (or kind of repeats itself), then you're likely doing it wrong:\n",
    "\n",
    "- You're writing too much code\n",
    "- You're then going to have to read/maintain too much code\n",
    "- If something changes, you'll have to change it in many places\n",
    "\n",
    "If you can centralize your code, and only write it once, you're in a much better spot.\n",
    "\n",
    "In this case, lines 5, 6, 7, and 8 are all pretty much the same thing, just changing which letter they want to print."
   ]
  },
  {
   "cell_type": "markdown",
   "metadata": {},
   "source": [
    "# Loops\n",
    "\n",
    "A loop allows us to run the same code multiple times, each time typically with a small difference/change.\n",
    "\n",
    "Python has two kinds of loops:\n",
    "\n",
    "- `for` (much more common)\n",
    "- `while`\n"
   ]
  }
 ],
 "metadata": {
  "kernelspec": {
   "display_name": "Python 3 (ipykernel)",
   "language": "python",
   "name": "python3"
  },
  "language_info": {
   "codemirror_mode": {
    "name": "ipython",
    "version": 3
   },
   "file_extension": ".py",
   "mimetype": "text/x-python",
   "name": "python",
   "nbconvert_exporter": "python",
   "pygments_lexer": "ipython3",
   "version": "3.13.2"
  }
 },
 "nbformat": 4,
 "nbformat_minor": 4
}
