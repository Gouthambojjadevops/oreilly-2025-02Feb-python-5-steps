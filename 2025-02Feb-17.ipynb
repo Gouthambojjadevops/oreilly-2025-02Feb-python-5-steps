{
 "cells": [
  {
   "cell_type": "markdown",
   "metadata": {},
   "source": [
    "# Agenda, day 2: Loops, lists, and tuples\n",
    "\n",
    "1. Q&A\n",
    "2. Loops\n",
    "    - `for`\n",
    "    - Looping a number of times\n",
    "    - What about the index?\n",
    "    - `break` and `continue` -- control our loops\n",
    "    - `while`\n",
    "3. Lists (another data structure)\n",
    "    - The basics\n",
    "    - How are lists similar to (and different from) strings?\n",
    "    - Lists are mutable; we can change them!\n",
    "    - List methods\n",
    "4. Converting strings to lists, and back\n",
    "    - Turning strings into lists with `str.split`\n",
    "    - Turning lists into strings with `str.join`\n",
    "5. Tuples (another data structure)\n",
    "    - How they are similar to and different from lists\n",
    "    - Why do we need tuples?\n",
    "    - Tuple unpacking\n"
   ]
  },
  {
   "cell_type": "code",
   "execution_count": null,
   "metadata": {},
   "outputs": [],
   "source": []
  }
 ],
 "metadata": {
  "kernelspec": {
   "display_name": "Python 3 (ipykernel)",
   "language": "python",
   "name": "python3"
  },
  "language_info": {
   "codemirror_mode": {
    "name": "ipython",
    "version": 3
   },
   "file_extension": ".py",
   "mimetype": "text/x-python",
   "name": "python",
   "nbconvert_exporter": "python",
   "pygments_lexer": "ipython3",
   "version": "3.13.2"
  }
 },
 "nbformat": 4,
 "nbformat_minor": 4
}
