{
 "cells": [
  {
   "cell_type": "markdown",
   "metadata": {},
   "source": [
    "# Agenda, day 2: Loops, lists, and tuples\n",
    "\n",
    "1. Q&A\n",
    "2. Loops\n",
    "    - `for`\n",
    "    - Looping a number of times\n",
    "    - What about the index?\n",
    "    - `break` and `continue` -- control our loops\n",
    "    - `while`\n",
    "3. Lists (another data structure)\n",
    "    - The basics\n",
    "    - How are lists similar to (and different from) strings?\n",
    "    - Lists are mutable; we can change them!\n",
    "    - List methods\n",
    "4. Converting strings to lists, and back\n",
    "    - Turning strings into lists with `str.split`\n",
    "    - Turning lists into strings with `str.join`\n",
    "5. Tuples (another data structure)\n",
    "    - How they are similar to and different from lists\n",
    "    - Why do we need tuples?\n",
    "    - Tuple unpacking\n"
   ]
  },
  {
   "cell_type": "code",
   "execution_count": 2,
   "metadata": {},
   "outputs": [
    {
     "name": "stdout",
     "output_type": "stream",
     "text": [
      "a\n",
      "b\n",
      "c\n",
      "d\n"
     ]
    }
   ],
   "source": [
    "s = 'abcd'\n",
    "\n",
    "# I want to print every character in s\n",
    "\n",
    "print(s[0])\n",
    "print(s[1])\n",
    "print(s[2])\n",
    "print(s[3])"
   ]
  },
  {
   "cell_type": "markdown",
   "metadata": {},
   "source": [
    "# DRY -- don't repeat yourself!\n",
    "\n",
    "The \"DRY rule\" means: If you have code that repeats itself (or kind of repeats itself), then you're likely doing it wrong:\n",
    "\n",
    "- You're writing too much code\n",
    "- You're then going to have to read/maintain too much code\n",
    "- If something changes, you'll have to change it in many places\n",
    "\n",
    "If you can centralize your code, and only write it once, you're in a much better spot.\n",
    "\n",
    "In this case, lines 5, 6, 7, and 8 are all pretty much the same thing, just changing which letter they want to print."
   ]
  },
  {
   "cell_type": "markdown",
   "metadata": {},
   "source": [
    "# Loops\n",
    "\n",
    "A loop allows us to run the same code multiple times, each time typically with a small difference/change.\n",
    "\n",
    "Python has two kinds of loops:\n",
    "\n",
    "- `for` (much more common)\n",
    "- `while`\n",
    "\n"
   ]
  },
  {
   "cell_type": "code",
   "execution_count": 4,
   "metadata": {},
   "outputs": [
    {
     "name": "stdout",
     "output_type": "stream",
     "text": [
      "Before\n",
      "a\n",
      "b\n",
      "c\n",
      "d\n",
      "After\n"
     ]
    }
   ],
   "source": [
    "# here's some code that does the same thing as we saw above\n",
    "\n",
    "s = 'abcd'\n",
    "\n",
    "print('Before')\n",
    "for one_character in s:\n",
    "    print(one_character)\n",
    "print('After')    "
   ]
  },
  {
   "cell_type": "markdown",
   "metadata": {},
   "source": [
    "# What's happening here?\n",
    "\n",
    "- `for` is at the start of the line, and indicates we want to iterate over some multi-part data\n",
    "- That multi-part value is at the end of the line (in this case, `s`)\n",
    "- `for` turns to `s` and asks: Are you iterable? Do you even know how to work in a `for` loop?\n",
    "    - If the answer is \"no,\" then we get an error and the loop ends\n",
    "- If the answer is \"yes,\" then `for` asks `s` for its next value\n",
    "    - If there are no more values, then the loop ends (without an error)\n",
    "- The next value is assigned to the \"loop variable\", here `one_character`\n",
    "- The \"loop body\" (after a `:`, and indented) is then executed with `one_character` assigned to\n",
    "- When the loop body ends, we go back to line 5 and get the next value, repeating the last few steps"
   ]
  },
  {
   "cell_type": "markdown",
   "metadata": {},
   "source": [
    "# A few things to notice\n",
    "\n",
    "1. The structure is `for LOOP_VARIABLE in MULTIPART_VALUE`\n",
    "2. The loop body can be any length you want; it is indented.\n",
    "3. The loop body can contain any code you want -- assignment, `print`, `input`, another `for` loop, `if`, ... you name it.\n",
    "4. Notice that there is no index here! We aren't iterating over the indexes of items in `s`, but rather the characters in `s`!\n",
    "5. How do I get characters? Because `s` is a string, and by definition, strings give us one character at a time when we iterate over them.\n",
    "6. This means that the loop variable's name, `one_character` has **ZERO INFLUENCE** over what we get with each iteration, or how many iterations there are. We could call that variable **ANYTHING** we want. The name is for us, not for Python.\n",
    "7. The number of iterations, and the types of values I get in each iteration, are up to the value (`s`), not up to the loop!"
   ]
  },
  {
   "cell_type": "code",
   "execution_count": 5,
   "metadata": {},
   "outputs": [
    {
     "name": "stdout",
     "output_type": "stream",
     "text": [
      "Found a vowel, a\n",
      "Consonant, b\n",
      "Consonant, c\n",
      "Consonant, d\n",
      "Found a vowel, e\n",
      "Consonant, f\n",
      "Consonant, g\n",
      "Consonant, h\n",
      "Found a vowel, i\n",
      "Consonant, j\n"
     ]
    }
   ],
   "source": [
    "s = 'abcdefghij'\n",
    "\n",
    "for one_character in s:\n",
    "    if one_character in 'aeiou':\n",
    "        print(f'Found a vowel, {one_character}')\n",
    "    else:\n",
    "        print(f'Consonant, {one_character}')"
   ]
  },
  {
   "cell_type": "code",
   "execution_count": null,
   "metadata": {},
   "outputs": [],
   "source": []
  }
 ],
 "metadata": {
  "kernelspec": {
   "display_name": "Python 3 (ipykernel)",
   "language": "python",
   "name": "python3"
  },
  "language_info": {
   "codemirror_mode": {
    "name": "ipython",
    "version": 3
   },
   "file_extension": ".py",
   "mimetype": "text/x-python",
   "name": "python",
   "nbconvert_exporter": "python",
   "pygments_lexer": "ipython3",
   "version": "3.13.2"
  }
 },
 "nbformat": 4,
 "nbformat_minor": 4
}
