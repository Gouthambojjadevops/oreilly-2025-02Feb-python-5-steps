{
 "cells": [
  {
   "cell_type": "markdown",
   "metadata": {},
   "source": [
    "# Agenda, day 2: Loops, lists, and tuples\n",
    "\n",
    "1. Q&A\n",
    "2. Loops\n",
    "    - `for`\n",
    "    - Looping a number of times\n",
    "    - What about the index?\n",
    "    - `break` and `continue` -- control our loops\n",
    "    - `while`\n",
    "3. Lists (another data structure)\n",
    "    - The basics\n",
    "    - How are lists similar to (and different from) strings?\n",
    "    - Lists are mutable; we can change them!\n",
    "    - List methods\n",
    "4. Converting strings to lists, and back\n",
    "    - Turning strings into lists with `str.split`\n",
    "    - Turning lists into strings with `str.join`\n",
    "5. Tuples (another data structure)\n",
    "    - How they are similar to and different from lists\n",
    "    - Why do we need tuples?\n",
    "    - Tuple unpacking\n"
   ]
  },
  {
   "cell_type": "code",
   "execution_count": 2,
   "metadata": {},
   "outputs": [
    {
     "name": "stdout",
     "output_type": "stream",
     "text": [
      "a\n",
      "b\n",
      "c\n",
      "d\n"
     ]
    }
   ],
   "source": [
    "s = 'abcd'\n",
    "\n",
    "# I want to print every character in s\n",
    "\n",
    "print(s[0])\n",
    "print(s[1])\n",
    "print(s[2])\n",
    "print(s[3])"
   ]
  },
  {
   "cell_type": "markdown",
   "metadata": {},
   "source": [
    "# DRY -- don't repeat yourself!\n",
    "\n",
    "The \"DRY rule\" means: If you have code that repeats itself (or kind of repeats itself), then you're likely doing it wrong:\n",
    "\n",
    "- You're writing too much code\n",
    "- You're then going to have to read/maintain too much code\n",
    "- If something changes, you'll have to change it in many places\n",
    "\n",
    "If you can centralize your code, and only write it once, you're in a much better spot.\n",
    "\n",
    "In this case, lines 5, 6, 7, and 8 are all pretty much the same thing, just changing which letter they want to print."
   ]
  },
  {
   "cell_type": "markdown",
   "metadata": {},
   "source": [
    "# Loops\n",
    "\n",
    "A loop allows us to run the same code multiple times, each time typically with a small difference/change.\n",
    "\n",
    "Python has two kinds of loops:\n",
    "\n",
    "- `for` (much more common)\n",
    "- `while`\n",
    "\n"
   ]
  },
  {
   "cell_type": "code",
   "execution_count": 4,
   "metadata": {},
   "outputs": [
    {
     "name": "stdout",
     "output_type": "stream",
     "text": [
      "Before\n",
      "a\n",
      "b\n",
      "c\n",
      "d\n",
      "After\n"
     ]
    }
   ],
   "source": [
    "# here's some code that does the same thing as we saw above\n",
    "\n",
    "s = 'abcd'\n",
    "\n",
    "print('Before')\n",
    "for one_character in s:\n",
    "    print(one_character)\n",
    "print('After')    "
   ]
  },
  {
   "cell_type": "markdown",
   "metadata": {},
   "source": [
    "# What's happening here?\n",
    "\n",
    "- `for` is at the start of the line, and indicates we want to iterate over some multi-part data\n",
    "- That multi-part value is at the end of the line (in this case, `s`)\n",
    "- `for` turns to `s` and asks: Are you iterable? Do you even know how to work in a `for` loop?\n",
    "    - If the answer is \"no,\" then we get an error and the loop ends\n",
    "- If the answer is \"yes,\" then `for` asks `s` for its next value\n",
    "    - If there are no more values, then the loop ends (without an error)\n",
    "- The next value is assigned to the \"loop variable\", here `one_character`\n",
    "- The \"loop body\" (after a `:`, and indented) is then executed with `one_character` assigned to\n",
    "- When the loop body ends, we go back to line 5 and get the next value, repeating the last few steps"
   ]
  },
  {
   "cell_type": "markdown",
   "metadata": {},
   "source": [
    "# A few things to notice\n",
    "\n",
    "1. The structure is `for LOOP_VARIABLE in MULTIPART_VALUE`\n",
    "2. The loop body can be any length you want; it is indented.\n",
    "3. The loop body can contain any code you want -- assignment, `print`, `input`, another `for` loop, `if`, ... you name it.\n",
    "4. Notice that there is no index here! We aren't iterating over the indexes of items in `s`, but rather the characters in `s`!\n",
    "5. How do I get characters? Because `s` is a string, and by definition, strings give us one character at a time when we iterate over them.\n",
    "6. This means that the loop variable's name, `one_character` has **ZERO INFLUENCE** over what we get with each iteration, or how many iterations there are. We could call that variable **ANYTHING** we want. The name is for us, not for Python.\n",
    "7. The number of iterations, and the types of values I get in each iteration, are up to the value (`s`), not up to the loop!\n",
    "8. The loop variable is defined right there in your `for` loop. If the variable was previously defined, then its value is overwritten. You can choose any variable you want -- just remember that you'll need to remember what it does."
   ]
  },
  {
   "cell_type": "code",
   "execution_count": 5,
   "metadata": {},
   "outputs": [
    {
     "name": "stdout",
     "output_type": "stream",
     "text": [
      "Found a vowel, a\n",
      "Consonant, b\n",
      "Consonant, c\n",
      "Consonant, d\n",
      "Found a vowel, e\n",
      "Consonant, f\n",
      "Consonant, g\n",
      "Consonant, h\n",
      "Found a vowel, i\n",
      "Consonant, j\n"
     ]
    }
   ],
   "source": [
    "s = 'abcdefghij'\n",
    "\n",
    "for one_character in s:\n",
    "    if one_character in 'aeiou':\n",
    "        print(f'Found a vowel, {one_character}')\n",
    "    else:\n",
    "        print(f'Consonant, {one_character}')"
   ]
  },
  {
   "cell_type": "markdown",
   "metadata": {},
   "source": [
    "# Exercise: Vowels, digits, and others\n",
    "\n",
    "1. Define three variables, `vowels`, `digits`, and `others`, and assign them all the value 0.\n",
    "2. Ask the user (with `input`) to enter a string.\n",
    "3. Use a `for` loop to go through the string, one character at a time.\n",
    "    - If it's a vowel, then add 1 to `vowels`\n",
    "    - If it's a digit, then add 1 to `digits`\n",
    "    - otherwise, add 1 to `others`\n",
    "4. Print all three variables (`vowels`, `digits`, and `others`).\n",
    "\n",
    "Hints/reminders:\n",
    "- You can check if a string (including a one-character string) contains only digits if you run the method `str.isdigit` -- for example, `one_character.isdigit()` returns `True` or `False`\n",
    "- You can have several different conditions with `if`/`elif`/`else`"
   ]
  },
  {
   "cell_type": "code",
   "execution_count": 6,
   "metadata": {},
   "outputs": [
    {
     "name": "stdout",
     "output_type": "stream",
     "text": [
      "Not empty!\n"
     ]
    }
   ],
   "source": [
    "# To check if a string is empty, you can compare it with '', the empty string\n",
    "\n",
    "s = 'abcd'\n",
    "\n",
    "if s == '':\n",
    "    print('Empty!')\n",
    "else:\n",
    "    print('Not empty!')"
   ]
  },
  {
   "cell_type": "code",
   "execution_count": 7,
   "metadata": {},
   "outputs": [
    {
     "name": "stdin",
     "output_type": "stream",
     "text": [
      "Enter some text:  hello!! 123\n"
     ]
    },
    {
     "name": "stdout",
     "output_type": "stream",
     "text": [
      "vowels = 2\n",
      "digits = 3\n",
      "others = 6\n"
     ]
    }
   ],
   "source": [
    "# the first time I assign to a variable, I create the variable, as well\n",
    "vowels = 0\n",
    "digits = 0\n",
    "others = 0\n",
    "\n",
    "text = input('Enter some text: ').strip()    # the \"str.strip\" method, which works on strings, returns one without whitespace before/after\n",
    "\n",
    "for one_character in text:\n",
    "    if one_character in 'aeiou':    # if one_character is a vowel...\n",
    "        vowels += 1                 #  ... add 1 to vowels\n",
    "    elif one_character.isdigit():   # if one_character is a digit...\n",
    "        digits += 1                 #  ... add 1 to digits\n",
    "    else:                           # if neither of the above was True...\n",
    "        others += 1                 #  ... add 1 to others\n",
    "\n",
    "print(f'vowels = {vowels}')        \n",
    "print(f'digits = {digits}')        \n",
    "print(f'others = {others}')        "
   ]
  },
  {
   "cell_type": "code",
   "execution_count": 9,
   "metadata": {},
   "outputs": [],
   "source": [
    "# there is a value called None (yes, capital N) in Python which is a value we use to say that\n",
    "# the variable doesn't contain anything useful.  So you can say\n",
    "\n",
    "# None is *NOT* the same as the empty string, '' !\n",
    "# None isn't the same as saying, \"the variable isn't defined\"\n",
    "\n",
    "x = 123\n",
    "\n",
    "if x == None:\n",
    "    print('It is None!')"
   ]
  },
  {
   "cell_type": "markdown",
   "metadata": {},
   "source": [
    "# Why do we need `()` after a method (or function) call?\n",
    "\n",
    "In Python, if we want to execute a method or function, we need to use `()`. This tells Python to call the function/method. If we don't do that, then we get the \"function value,\" which are the instructions for running the function, but not the actual execution of it.\n",
    "\n"
   ]
  },
  {
   "cell_type": "code",
   "execution_count": 10,
   "metadata": {},
   "outputs": [
    {
     "name": "stdout",
     "output_type": "stream",
     "text": [
      "a\n",
      "b\n",
      "c\n",
      "d\n",
      "e\n",
      "f\n",
      "g\n",
      "h\n",
      "i\n",
      "j\n"
     ]
    }
   ],
   "source": [
    "# SD what if I want to loop not over every character, but every other character?\n",
    "\n",
    "s = 'abcdefghij'\n",
    "\n",
    "for one_character in s:\n",
    "    print(one_character)"
   ]
  },
  {
   "cell_type": "code",
   "execution_count": 12,
   "metadata": {},
   "outputs": [
    {
     "data": {
      "text/plain": [
       "'def'"
      ]
     },
     "execution_count": 12,
     "metadata": {},
     "output_type": "execute_result"
    }
   ],
   "source": [
    "# in Python, the way we do this is with a slice\n",
    "# we saw slices of the form [start:end] last week\n",
    "\n",
    "s[3:6]   # from index 3 until (not including) index 6"
   ]
  },
  {
   "cell_type": "code",
   "execution_count": 13,
   "metadata": {},
   "outputs": [
    {
     "data": {
      "text/plain": [
       "'dfh'"
      ]
     },
     "execution_count": 13,
     "metadata": {},
     "output_type": "execute_result"
    }
   ],
   "source": [
    "# we can actually add a THIRD part to the slice, which indicates by what \n",
    "# step size we want to move forward\n",
    "\n",
    "s[3:8:2]  # this means: from index 3, until (not including) index 8, step size 2"
   ]
  },
  {
   "cell_type": "code",
   "execution_count": 14,
   "metadata": {},
   "outputs": [
    {
     "name": "stdout",
     "output_type": "stream",
     "text": [
      "a\n",
      "c\n",
      "e\n",
      "g\n",
      "i\n"
     ]
    }
   ],
   "source": [
    "# how can I iterate over s, but every other character?\n",
    "# the easiest way is to iterate over s[::2], meaning -- from the start, to the end, step size 2\n",
    "\n",
    "s = 'abcdefghij'\n",
    "\n",
    "for one_character in s[::2]:\n",
    "    print(one_character)"
   ]
  },
  {
   "cell_type": "code",
   "execution_count": 16,
   "metadata": {},
   "outputs": [
    {
     "name": "stdin",
     "output_type": "stream",
     "text": [
      "Enter some text:  HELLO\n"
     ]
    },
    {
     "name": "stdout",
     "output_type": "stream",
     "text": [
      "vowels = 2\n",
      "digits = 0\n",
      "others = 3\n"
     ]
    }
   ],
   "source": [
    "# right now, our program doesn't count CAPITAL VOWELS\n",
    "# there are two possible solutions:\n",
    "# (1) modify our vowels string to include capitals, as in 'aeiouAEIOU'\n",
    "# (2) invoke the str.lower() method on text, which returns a new string of all lowercase letters, then iterate over it\n",
    "\n",
    "vowels = 0\n",
    "digits = 0\n",
    "others = 0\n",
    "\n",
    "text = input('Enter some text: ').strip()    # the \"str.strip\" method, which works on strings, returns one without whitespace before/after\n",
    "\n",
    "for one_character in text.lower():  # now, we're iterating over a new string, the lowercase version of text\n",
    "    if one_character in 'aeiou':    # if one_character is a vowel...\n",
    "        vowels += 1                 #  ... add 1 to vowels\n",
    "    elif one_character.isdigit():   # if one_character is a digit...\n",
    "        digits += 1                 #  ... add 1 to digits\n",
    "    else:                           # if neither of the above was True...\n",
    "        others += 1                 #  ... add 1 to others\n",
    "\n",
    "print(f'vowels = {vowels}')        \n",
    "print(f'digits = {digits}')        \n",
    "print(f'others = {others}')        "
   ]
  },
  {
   "cell_type": "markdown",
   "metadata": {},
   "source": [
    "# What about the index?\n",
    "\n",
    "In many (most) other programming languages, `for` loops work very differently: We start with an integer (0), then increment that integer with each iteration, and then use the integer to retrieve the character we want.\n",
    "\n",
    "In Python, we say: Why use the index to get a character, when we can just get the characters directly?\n",
    "\n",
    "But: There are some times when we want to get the index. For example, we want to print the index with each character.\n",
    "\n",
    "How can we do that?\n",
    "\n",
    "One way: We do it manually."
   ]
  },
  {
   "cell_type": "code",
   "execution_count": null,
   "metadata": {},
   "outputs": [],
   "source": []
  }
 ],
 "metadata": {
  "kernelspec": {
   "display_name": "Python 3 (ipykernel)",
   "language": "python",
   "name": "python3"
  },
  "language_info": {
   "codemirror_mode": {
    "name": "ipython",
    "version": 3
   },
   "file_extension": ".py",
   "mimetype": "text/x-python",
   "name": "python",
   "nbconvert_exporter": "python",
   "pygments_lexer": "ipython3",
   "version": "3.13.2"
  }
 },
 "nbformat": 4,
 "nbformat_minor": 4
}
